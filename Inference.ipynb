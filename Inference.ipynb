{
 "cells": [
  {
   "cell_type": "markdown",
   "id": "2fd183b6",
   "metadata": {},
   "source": [
    "## In Progress, will finish by the end of September\n",
    "\n",
    "1) Use the \"high-resolution piano transcription\" system in `workspaces/AMT/HPT` to transcribe audio into MIDI files\n",
    "2) Make these MIDI files becomes \"no dynamics music score\"\n",
    "3) Add our model predicted dyanmic markings on these AMT-transcribed score."
   ]
  }
 ],
 "metadata": {
  "language_info": {
   "name": "python"
  }
 },
 "nbformat": 4,
 "nbformat_minor": 5
}
