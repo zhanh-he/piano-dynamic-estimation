{
 "cells": [
  {
   "cell_type": "markdown",
   "id": "8736705e",
   "metadata": {},
   "source": [
    "# Multitask model results & Ablation study\n",
    "- All acquired from the evaluation history recoreded in this notebook.\n",
    "- Select the hightest validation F1 score's checkpoint from each fold, to evaluate on the final test split;\n",
    "- Start from 8th epoch to ensure the training converged, otherwise a high standard deviation of F1 scores.\n",
    "\n",
    "---\n",
    "#### MultiTaskCNN ['dynamic','change_point','beat','downbeat'] + BSSL\n",
    "| Fold | Checkpoint                  | Dynamic F1 | Change-Point F1 | Beat F1 | Downbeat F1 |\n",
    "|-----:|-----------------------------|-----------:|----------------:|--------:|------------:|\n",
    "| 0    | epoch_96_valf1_0.53453.pth  | 0.6850     | 0.4236          | 0.8633  | 0.6357      |\n",
    "| 1    | epoch_72_valf1_0.55627.pth  | 0.4862     | 0.2360          | 0.8414  | 0.5402      |\n",
    "| 2    | epoch_120_valf1_0.52512.pth | 0.6108     | 0.1777          | 0.8323  | 0.5296      |\n",
    "| 3    | epoch_88_valf1_0.55493.pth  | 0.4495     | 0.1570          | 0.8444  | 0.5270      |\n",
    "| 4    | epoch_120_valf1_0.51272.pth | 0.4879     | 0.3119          | 0.8244  | 0.5268      |\n",
    "| **Mean ± Std** | —                 | **0.5439 ± 0.0892** | **0.2612 ± 0.0974** | **0.8412 ± 0.0131** | **0.5519 ± 0.0422** |\n",
    "\n",
    "\n",
    "#### MultiTaskCNN ['dynamic','change_point','beat','downbeat'] + Log-Mel\n",
    "| Fold | Checkpoint                 | Dynamic F1 | Change-Point F1 |  Beat F1 | Downbeat F1 |\n",
    "|-----:|----------------------------|-----------:|----------------:|---------:|------------:|\n",
    "| 0    | epoch_8_valf1_0.50143.pth  | 0.6611     | 0.2447          | 0.8684   | 0.6939      |\n",
    "| 1    | epoch_72_valf1_0.51853.pth | 0.4409     | 0.1641          | 0.8182   | 0.5435      |\n",
    "| 2    | epoch_32_valf1_0.53565.pth | 0.6096     | 0.1837          | 0.8264   | 0.5281      |\n",
    "| 3    | epoch_48_valf1_0.52768.pth | 0.3741     | 0.2222          | 0.8411   | 0.6110      |\n",
    "| 4    | epoch_24_valf1_0.50265.pth | 0.4542     | 0.3388          | 0.8316   | 0.5467      |\n",
    "| **Mean ± Std** | —                | **0.5080 ± 0.1087** | **0.2307 ± 0.0610** | **0.8371 ± 0.0173** | **0.5846 ± 0.0616** |\n",
    "\n",
    "\n",
    "---\n",
    "# 2) Ablation study\n",
    "\n",
    "#### Ablation (Fold 0, BSSL input) — MultiTaskCNN ['dynamic','change_point','beat','downbeat']\n",
    "| Model Variant            | Scaling | MMoE | Data Aug | 60 Segs | Dynamic F1 | Change-Point F1 | Beat F1 | Downbeat F1 | Average F1 |\n",
    "|-------------------------|:------:|:---:|:-------:|:--------:|-----------:|----------------:|--------:|------------:|-----------:|\n",
    "| **Proposed**            | 5×5    | ✓   | ✓       | ✓        | 0.6850     | 0.4236          | 0.8633  | 0.6357      | 0.6519     |\n",
    "| **No MMoE**             | 5×5    | ×   | ✓       | ✓        | 0.6359     | 0.3545          | 0.8586  | 0.5990      | 0.6120     |\n",
    "| **No Temporal Scaling** | 1×1    | ✓   | ✓       | ✓        | 0.6111     | 0.2126          | 0.8114  | 0.4450      | 0.5200     |\n",
    "| **No Data Augmentation**| 5×5    | ✓   | ×       | ✓        | 0.5507     | 0.1837          | 0.8383  | 0.5363      | 0.5273     |\n",
    "| **Use 30s Segments**    | 5×5    | ✓   | ✓       | ×        | 0.5545     | 0.2083          | 0.8396  | 0.5336      | 0.5340     |\n",
    "\n",
    "---\n",
    "# Evaluation history in below - 1. Multitask model"
   ]
  },
  {
   "cell_type": "code",
   "execution_count": null,
   "id": "04bc6ff4",
   "metadata": {},
   "outputs": [
    {
     "name": "stderr",
     "output_type": "stream",
     "text": [
      "Files epoch_96_valf1_0.53453.pth: 100%|██████████| 407/407 [00:15<00:00, 25.89it/s]\n"
     ]
    },
    {
     "name": "stdout",
     "output_type": "stream",
     "text": [
      "[epoch_96_valf1_0.53453.pth] Exported 407 file(s) under /media/mengh/SharedData/zhanh/202505_dynest_data/workspaces/outputs/formal latent8 mmoe8 5x5-sone-MultiTaskCNN-['dynamic', 'change_point', 'beat', 'downbeat']-fold0/epoch_96_valf1_0.53453\n",
      "epoch_96_valf1_0.53453.pth -> {'dynamic_f1': 0.685, 'change_point_f1': 0.4236, 'beat_f1': 0.8633, 'downbeat_f1': 0.6357}\n"
     ]
    },
    {
     "name": "stderr",
     "output_type": "stream",
     "text": [
      "Files epoch_72_valf1_0.55627.pth: 100%|██████████| 407/407 [00:16<00:00, 24.10it/s]\n"
     ]
    },
    {
     "name": "stdout",
     "output_type": "stream",
     "text": [
      "[epoch_72_valf1_0.55627.pth] Exported 407 file(s) under /media/mengh/SharedData/zhanh/202505_dynest_data/workspaces/outputs/formal latent8 mmoe8 5x5-sone-MultiTaskCNN-['dynamic', 'change_point', 'beat', 'downbeat']-fold1/epoch_72_valf1_0.55627\n",
      "epoch_72_valf1_0.55627.pth -> {'dynamic_f1': 0.4862, 'change_point_f1': 0.236, 'beat_f1': 0.8414, 'downbeat_f1': 0.5402}\n"
     ]
    },
    {
     "name": "stderr",
     "output_type": "stream",
     "text": [
      "Files epoch_120_valf1_0.52512.pth: 100%|██████████| 374/374 [00:16<00:00, 23.33it/s]\n"
     ]
    },
    {
     "name": "stdout",
     "output_type": "stream",
     "text": [
      "[epoch_120_valf1_0.52512.pth] Exported 374 file(s) under /media/mengh/SharedData/zhanh/202505_dynest_data/workspaces/outputs/formal latent8 mmoe8 5x5-sone-MultiTaskCNN-['dynamic', 'change_point', 'beat', 'downbeat']-fold2/epoch_120_valf1_0.52512\n",
      "epoch_120_valf1_0.52512.pth -> {'dynamic_f1': 0.6108, 'change_point_f1': 0.1777, 'beat_f1': 0.8323, 'downbeat_f1': 0.5296}\n"
     ]
    },
    {
     "name": "stderr",
     "output_type": "stream",
     "text": [
      "Files epoch_88_valf1_0.55493.pth: 100%|██████████| 406/406 [00:16<00:00, 24.32it/s]\n"
     ]
    },
    {
     "name": "stdout",
     "output_type": "stream",
     "text": [
      "[epoch_88_valf1_0.55493.pth] Exported 406 file(s) under /media/mengh/SharedData/zhanh/202505_dynest_data/workspaces/outputs/formal latent8 mmoe8 5x5-sone-MultiTaskCNN-['dynamic', 'change_point', 'beat', 'downbeat']-fold3/epoch_88_valf1_0.55493\n",
      "epoch_88_valf1_0.55493.pth -> {'dynamic_f1': 0.4495, 'change_point_f1': 0.157, 'beat_f1': 0.8444, 'downbeat_f1': 0.527}\n"
     ]
    },
    {
     "name": "stderr",
     "output_type": "stream",
     "text": [
      "Files epoch_120_valf1_0.51272.pth: 100%|██████████| 404/404 [00:15<00:00, 25.62it/s]\n"
     ]
    },
    {
     "name": "stdout",
     "output_type": "stream",
     "text": [
      "[epoch_120_valf1_0.51272.pth] Exported 404 file(s) under /media/mengh/SharedData/zhanh/202505_dynest_data/workspaces/outputs/formal latent8 mmoe8 5x5-sone-MultiTaskCNN-['dynamic', 'change_point', 'beat', 'downbeat']-fold4/epoch_120_valf1_0.51272\n",
      "epoch_120_valf1_0.51272.pth -> {'dynamic_f1': 0.4879, 'change_point_f1': 0.3119, 'beat_f1': 0.8244, 'downbeat_f1': 0.5268}\n"
     ]
    }
   ],
   "source": [
    "import subprocess\n",
    "OUT = \"/media/mengh/SharedData/zhanh/202505_dynest_data/workspaces/outputs\"\n",
    "CKPT=\"/media/mengh/SharedData/zhanh/202505_dynest_data/workspaces/checkpoints/formal latent8 mmoe8 5x5-sone-MultiTaskCNN-['dynamic', 'change_point', 'beat', 'downbeat']-fold{f}\"\n",
    "CSV=\"/media/mengh/SharedData/zhanh/202505_dynest_data/workspaces/split_5fold_fold{f}_seed86.csv\"\n",
    "for f in range(5):\n",
    "    ckpt_dir = CKPT.format(f=f)\n",
    "    csv_path = CSV.format(f=f)\n",
    "    common = [\n",
    "        \"--ckpt_dir\", ckpt_dir,\n",
    "        \"--infer_split_csv\", csv_path,\n",
    "        \"--output_dir\", OUT,\n",
    "        \"--valf1_rank\", \"1\",\n",
    "        \"--min_epoch\", \"8\",\n",
    "    ] # Run inference then evaluation for this fold\n",
    "    subprocess.run([\"python\", \"pytorch/inference.py\", *common], check=True)\n",
    "    subprocess.run([\"python\", \"pytorch/final_evaluation.py\", *common], check=True)"
   ]
  },
  {
   "cell_type": "code",
   "execution_count": null,
   "id": "94ece404",
   "metadata": {},
   "outputs": [
    {
     "name": "stderr",
     "output_type": "stream",
     "text": [
      "Files epoch_16_valf1_0.51337.pth: 100%|██████████| 407/407 [00:13<00:00, 29.63it/s]\n"
     ]
    },
    {
     "name": "stdout",
     "output_type": "stream",
     "text": [
      "[epoch_16_valf1_0.51337.pth] Exported 407 file(s) under /media/mengh/SharedData/zhanh/202505_dynest_data/workspaces/outputs/formal latent8 mmoe8 5x5-logmel-MultiTaskCNN-['dynamic', 'change_point', 'beat', 'downbeat']-fold0/epoch_16_valf1_0.51337\n",
      "epoch_16_valf1_0.51337.pth -> {'dynamic_f1': 0.7335, 'change_point_f1': 0.5085, 'beat_f1': 0.8911, 'downbeat_f1': 0.7455}\n"
     ]
    },
    {
     "name": "stderr",
     "output_type": "stream",
     "text": [
      "Files epoch_24_valf1_0.52887.pth: 100%|██████████| 407/407 [00:14<00:00, 28.02it/s]\n"
     ]
    },
    {
     "name": "stdout",
     "output_type": "stream",
     "text": [
      "[epoch_24_valf1_0.52887.pth] Exported 407 file(s) under /media/mengh/SharedData/zhanh/202505_dynest_data/workspaces/outputs/formal latent8 mmoe8 5x5-logmel-MultiTaskCNN-['dynamic', 'change_point', 'beat', 'downbeat']-fold1/epoch_24_valf1_0.52887\n",
      "epoch_24_valf1_0.52887.pth -> {'dynamic_f1': 0.4367, 'change_point_f1': 0.1797, 'beat_f1': 0.8379, 'downbeat_f1': 0.5547}\n"
     ]
    },
    {
     "name": "stderr",
     "output_type": "stream",
     "text": [
      "Files epoch_72_valf1_0.53825.pth: 100%|██████████| 374/374 [00:12<00:00, 29.50it/s]\n"
     ]
    },
    {
     "name": "stdout",
     "output_type": "stream",
     "text": [
      "[epoch_72_valf1_0.53825.pth] Exported 374 file(s) under /media/mengh/SharedData/zhanh/202505_dynest_data/workspaces/outputs/formal latent8 mmoe8 5x5-logmel-MultiTaskCNN-['dynamic', 'change_point', 'beat', 'downbeat']-fold2/epoch_72_valf1_0.53825\n",
      "epoch_72_valf1_0.53825.pth -> {'dynamic_f1': 0.6068, 'change_point_f1': 0.1887, 'beat_f1': 0.814, 'downbeat_f1': 0.5239}\n"
     ]
    },
    {
     "name": "stderr",
     "output_type": "stream",
     "text": [
      "Files epoch_8_valf1_0.55448.pth: 100%|██████████| 406/406 [00:14<00:00, 27.60it/s]\n"
     ]
    },
    {
     "name": "stdout",
     "output_type": "stream",
     "text": [
      "[epoch_8_valf1_0.55448.pth] Exported 406 file(s) under /media/mengh/SharedData/zhanh/202505_dynest_data/workspaces/outputs/formal latent8 mmoe8 5x5-logmel-MultiTaskCNN-['dynamic', 'change_point', 'beat', 'downbeat']-fold3/epoch_8_valf1_0.55448\n",
      "epoch_8_valf1_0.55448.pth -> {'dynamic_f1': 0.4247, 'change_point_f1': 0.1246, 'beat_f1': 0.8634, 'downbeat_f1': 0.6128}\n"
     ]
    },
    {
     "name": "stderr",
     "output_type": "stream",
     "text": [
      "Files epoch_8_valf1_0.50475.pth: 100%|██████████| 404/404 [00:12<00:00, 32.12it/s]\n"
     ]
    },
    {
     "name": "stdout",
     "output_type": "stream",
     "text": [
      "[epoch_8_valf1_0.50475.pth] Exported 404 file(s) under /media/mengh/SharedData/zhanh/202505_dynest_data/workspaces/outputs/formal latent8 mmoe8 5x5-logmel-MultiTaskCNN-['dynamic', 'change_point', 'beat', 'downbeat']-fold4/epoch_8_valf1_0.50475\n",
      "epoch_8_valf1_0.50475.pth -> {'dynamic_f1': 0.464, 'change_point_f1': 0.3367, 'beat_f1': 0.8403, 'downbeat_f1': 0.5575}\n"
     ]
    }
   ],
   "source": [
    "import subprocess\n",
    "OUT = \"/media/mengh/SharedData/zhanh/202505_dynest_data/workspaces/outputs\"\n",
    "CKPT= \"/media/mengh/SharedData/zhanh/202505_dynest_data/workspaces/checkpoints/formal latent8 mmoe8 5x5-logmel-MultiTaskCNN-['dynamic', 'change_point', 'beat', 'downbeat']-fold{f}\"\n",
    "CSV = \"/media/mengh/SharedData/zhanh/202505_dynest_data/workspaces/split_5fold_fold{f}_seed86.csv\"\n",
    "for f in range(5):\n",
    "    ckpt_dir = CKPT.format(f=f)\n",
    "    csv_path = CSV.format(f=f)\n",
    "    common = [\n",
    "        \"--ckpt_dir\", ckpt_dir,\n",
    "        \"--infer_split_csv\", csv_path,\n",
    "        \"--output_dir\", OUT,\n",
    "        \"--valf1_rank\", \"1\",\n",
    "        \"--min_epoch\", \"8\",\n",
    "    ] # Run inference then evaluation for this fold\n",
    "    subprocess.run([\"python\", \"pytorch/inference.py\", *common], check=True)\n",
    "    subprocess.run([\"python\", \"pytorch/final_evaluation.py\", *common], check=True)"
   ]
  },
  {
   "cell_type": "code",
   "execution_count": 9,
   "id": "ae678190",
   "metadata": {},
   "outputs": [
    {
     "name": "stderr",
     "output_type": "stream",
     "text": [
      "Files epoch_8_valf1_0.50143.pth: 100%|██████████| 407/407 [00:12<00:00, 31.51it/s]\n"
     ]
    },
    {
     "name": "stdout",
     "output_type": "stream",
     "text": [
      "[epoch_8_valf1_0.50143.pth] Exported 407 file(s) under /media/mengh/SharedData/zhanh/202505_dynest_data/workspaces/outputs/formal latent8 mmoe8 5x5-logmel-MultiTaskCNN-['dynamic', 'change_point', 'beat', 'downbeat']-fold0/epoch_8_valf1_0.50143\n",
      "epoch_8_valf1_0.50143.pth -> {'dynamic_f1': 0.6611, 'change_point_f1': 0.2447, 'beat_f1': 0.8684, 'downbeat_f1': 0.6939}\n"
     ]
    },
    {
     "name": "stderr",
     "output_type": "stream",
     "text": [
      "Files epoch_72_valf1_0.51853.pth: 100%|██████████| 407/407 [00:13<00:00, 30.88it/s]\n"
     ]
    },
    {
     "name": "stdout",
     "output_type": "stream",
     "text": [
      "[epoch_72_valf1_0.51853.pth] Exported 407 file(s) under /media/mengh/SharedData/zhanh/202505_dynest_data/workspaces/outputs/formal latent8 mmoe8 5x5-logmel-MultiTaskCNN-['dynamic', 'change_point', 'beat', 'downbeat']-fold1/epoch_72_valf1_0.51853\n",
      "epoch_72_valf1_0.51853.pth -> {'dynamic_f1': 0.4409, 'change_point_f1': 0.1641, 'beat_f1': 0.8182, 'downbeat_f1': 0.5435}\n"
     ]
    },
    {
     "name": "stderr",
     "output_type": "stream",
     "text": [
      "Files epoch_32_valf1_0.53565.pth: 100%|██████████| 374/374 [00:11<00:00, 31.90it/s]\n"
     ]
    },
    {
     "name": "stdout",
     "output_type": "stream",
     "text": [
      "[epoch_32_valf1_0.53565.pth] Exported 374 file(s) under /media/mengh/SharedData/zhanh/202505_dynest_data/workspaces/outputs/formal latent8 mmoe8 5x5-logmel-MultiTaskCNN-['dynamic', 'change_point', 'beat', 'downbeat']-fold2/epoch_32_valf1_0.53565\n",
      "epoch_32_valf1_0.53565.pth -> {'dynamic_f1': 0.6096, 'change_point_f1': 0.1837, 'beat_f1': 0.8264, 'downbeat_f1': 0.5281}\n"
     ]
    },
    {
     "name": "stderr",
     "output_type": "stream",
     "text": [
      "Files epoch_48_valf1_0.52768.pth: 100%|██████████| 406/406 [00:12<00:00, 31.48it/s]\n"
     ]
    },
    {
     "name": "stdout",
     "output_type": "stream",
     "text": [
      "[epoch_48_valf1_0.52768.pth] Exported 406 file(s) under /media/mengh/SharedData/zhanh/202505_dynest_data/workspaces/outputs/formal latent8 mmoe8 5x5-logmel-MultiTaskCNN-['dynamic', 'change_point', 'beat', 'downbeat']-fold3/epoch_48_valf1_0.52768\n",
      "epoch_48_valf1_0.52768.pth -> {'dynamic_f1': 0.3741, 'change_point_f1': 0.2222, 'beat_f1': 0.8411, 'downbeat_f1': 0.611}\n"
     ]
    },
    {
     "name": "stderr",
     "output_type": "stream",
     "text": [
      "Files epoch_24_valf1_0.50265.pth: 100%|██████████| 404/404 [00:11<00:00, 35.95it/s]\n"
     ]
    },
    {
     "name": "stdout",
     "output_type": "stream",
     "text": [
      "[epoch_24_valf1_0.50265.pth] Exported 404 file(s) under /media/mengh/SharedData/zhanh/202505_dynest_data/workspaces/outputs/formal latent8 mmoe8 5x5-logmel-MultiTaskCNN-['dynamic', 'change_point', 'beat', 'downbeat']-fold4/epoch_24_valf1_0.50265\n",
      "epoch_24_valf1_0.50265.pth -> {'dynamic_f1': 0.4542, 'change_point_f1': 0.3388, 'beat_f1': 0.8316, 'downbeat_f1': 0.5467}\n"
     ]
    }
   ],
   "source": [
    "import subprocess\n",
    "OUT = \"/media/mengh/SharedData/zhanh/202505_dynest_data/workspaces/outputs\"\n",
    "CKPT= \"/media/mengh/SharedData/zhanh/202505_dynest_data/workspaces/checkpoints/formal latent8 mmoe8 5x5-logmel-MultiTaskCNN-['dynamic', 'change_point', 'beat', 'downbeat']-fold{f}\"\n",
    "CSV = \"/media/mengh/SharedData/zhanh/202505_dynest_data/workspaces/split_5fold_fold{f}_seed86.csv\"\n",
    "for f in range(5):\n",
    "    ckpt_dir = CKPT.format(f=f)\n",
    "    csv_path = CSV.format(f=f)\n",
    "    common = [\n",
    "        \"--ckpt_dir\", ckpt_dir,\n",
    "        \"--infer_split_csv\", csv_path,\n",
    "        \"--output_dir\", OUT,\n",
    "        \"--valf1_rank\", \"3\",\n",
    "        \"--min_epoch\", \"8\",\n",
    "    ] # Run inference then evaluation for this fold\n",
    "    subprocess.run([\"python\", \"pytorch/inference.py\", *common], check=True)\n",
    "    subprocess.run([\"python\", \"pytorch/final_evaluation.py\", *common], check=True)"
   ]
  },
  {
   "cell_type": "markdown",
   "id": "392b73dc",
   "metadata": {},
   "source": [
    "\n",
    "---\n",
    "# Evaluation history in below - 2. Ablation study on MMoE and Scaling Factor "
   ]
  },
  {
   "cell_type": "code",
   "execution_count": null,
   "id": "59cb0d28",
   "metadata": {},
   "outputs": [
    {
     "name": "stderr",
     "output_type": "stream",
     "text": [
      "Files epoch_96_valf1_0.53453.pth: 100%|██████████| 407/407 [00:15<00:00, 26.08it/s]\n"
     ]
    },
    {
     "name": "stdout",
     "output_type": "stream",
     "text": [
      "[epoch_96_valf1_0.53453.pth] Exported 407 file(s) under /media/mengh/SharedData/zhanh/202505_dynest_data/workspaces/outputs/formal latent8 mmoe8 5x5-sone-MultiTaskCNN-['dynamic', 'change_point', 'beat', 'downbeat']-fold0/epoch_96_valf1_0.53453\n",
      "epoch_96_valf1_0.53453.pth -> {'dynamic_f1': 0.685, 'change_point_f1': 0.4236, 'beat_f1': 0.8633, 'downbeat_f1': 0.6357}\n"
     ]
    },
    {
     "data": {
      "text/plain": [
       "CompletedProcess(args=['python', 'pytorch/final_evaluation.py', '--ckpt_dir', \"/media/mengh/SharedData/zhanh/202505_dynest_data/workspaces/checkpoints/formal latent8 mmoe8 5x5-sone-MultiTaskCNN-['dynamic', 'change_point', 'beat', 'downbeat']-fold0\", '--infer_split_csv', '/media/mengh/SharedData/zhanh/202505_dynest_data/workspaces/split_5fold_fold0_seed86.csv', '--output_dir', '/media/mengh/SharedData/zhanh/202505_dynest_data/workspaces/outputs', '--valf1_rank', '1', '--min_epoch', '8'], returncode=0)"
      ]
     },
     "execution_count": 2,
     "metadata": {},
     "output_type": "execute_result"
    }
   ],
   "source": [
    "# Proposed\n",
    "import subprocess\n",
    "OUT = \"/media/mengh/SharedData/zhanh/202505_dynest_data/workspaces/outputs\"\n",
    "CKPT=\"/media/mengh/SharedData/zhanh/202505_dynest_data/workspaces/checkpoints/formal latent8 mmoe8 5x5-sone-MultiTaskCNN-['dynamic', 'change_point', 'beat', 'downbeat']-fold{f}\"\n",
    "CSV=\"/media/mengh/SharedData/zhanh/202505_dynest_data/workspaces/split_5fold_fold{f}_seed86.csv\"\n",
    "f=0\n",
    "ckpt_dir = CKPT.format(f=f)\n",
    "csv_path = CSV.format(f=f)\n",
    "common = [\n",
    "    \"--ckpt_dir\", ckpt_dir,\n",
    "    \"--infer_split_csv\", csv_path,\n",
    "    \"--output_dir\", OUT,\n",
    "    \"--valf1_rank\", \"1\",\n",
    "    \"--min_epoch\", \"8\",\n",
    "] # Run inference then evaluation for this fold\n",
    "subprocess.run([\"python\", \"pytorch/inference.py\", *common], check=True)\n",
    "subprocess.run([\"python\", \"pytorch/final_evaluation.py\", *common], check=True)"
   ]
  },
  {
   "cell_type": "code",
   "execution_count": 8,
   "id": "df37f28d",
   "metadata": {},
   "outputs": [
    {
     "name": "stderr",
     "output_type": "stream",
     "text": [
      "Files epoch_32_valf1_0.53222.pth: 100%|██████████| 407/407 [00:13<00:00, 29.53it/s]\n"
     ]
    },
    {
     "name": "stdout",
     "output_type": "stream",
     "text": [
      "[epoch_32_valf1_0.53222.pth] Exported 407 file(s) under /media/mengh/SharedData/zhanh/202505_dynest_data/workspaces/outputs/ablation no_mmoe8 5x5-sone-MultiTaskCNN-['dynamic', 'change_point', 'beat', 'downbeat']-fold0/epoch_32_valf1_0.53222\n",
      "epoch_32_valf1_0.53222.pth -> {'dynamic_f1': 0.6359, 'change_point_f1': 0.3545, 'beat_f1': 0.8586, 'downbeat_f1': 0.599}\n"
     ]
    },
    {
     "data": {
      "text/plain": [
       "CompletedProcess(args=['python', 'pytorch/final_evaluation.py', '--ckpt_dir', \"/media/mengh/SharedData/zhanh/202505_dynest_data/workspaces/checkpoints/ablation no_mmoe8 5x5-sone-MultiTaskCNN-['dynamic', 'change_point', 'beat', 'downbeat']-fold0\", '--infer_split_csv', '/media/mengh/SharedData/zhanh/202505_dynest_data/workspaces/split_5fold_fold0_seed86.csv', '--output_dir', '/media/mengh/SharedData/zhanh/202505_dynest_data/workspaces/outputs', '--valf1_rank', '1', '--min_epoch', '8'], returncode=0)"
      ]
     },
     "execution_count": 8,
     "metadata": {},
     "output_type": "execute_result"
    }
   ],
   "source": [
    "# No MMoE\n",
    "import subprocess\n",
    "OUT = \"/media/mengh/SharedData/zhanh/202505_dynest_data/workspaces/outputs\"\n",
    "CKPT=\"/media/mengh/SharedData/zhanh/202505_dynest_data/workspaces/checkpoints/ablation no_mmoe8 5x5-sone-MultiTaskCNN-['dynamic', 'change_point', 'beat', 'downbeat']-fold{f}\"\n",
    "CSV=\"/media/mengh/SharedData/zhanh/202505_dynest_data/workspaces/split_5fold_fold{f}_seed86.csv\"\n",
    "f=0\n",
    "ckpt_dir = CKPT.format(f=f)\n",
    "csv_path = CSV.format(f=f)\n",
    "common = [\n",
    "    \"--ckpt_dir\", ckpt_dir,\n",
    "    \"--infer_split_csv\", csv_path,\n",
    "    \"--output_dir\", OUT,\n",
    "    \"--valf1_rank\", \"1\",\n",
    "    \"--min_epoch\", \"8\",\n",
    "] # Run inference then evaluation for this fold\n",
    "subprocess.run([\"python\", \"pytorch/inference.py\", *common], check=True)\n",
    "subprocess.run([\"python\", \"pytorch/final_evaluation.py\", *common], check=True)"
   ]
  },
  {
   "cell_type": "code",
   "execution_count": 6,
   "id": "aaf25bd8",
   "metadata": {},
   "outputs": [
    {
     "name": "stderr",
     "output_type": "stream",
     "text": [
      "Files epoch_56_valf1_0.46575.pth: 100%|██████████| 407/407 [00:16<00:00, 25.01it/s]\n"
     ]
    },
    {
     "name": "stdout",
     "output_type": "stream",
     "text": [
      "[epoch_56_valf1_0.46575.pth] Exported 407 file(s) under /media/mengh/SharedData/zhanh/202505_dynest_data/workspaces/outputs/ablation mmoe8 1x1-sone-MultiTaskCNN-['dynamic', 'change_point', 'beat', 'downbeat']-fold0/epoch_56_valf1_0.46575\n",
      "epoch_56_valf1_0.46575.pth -> {'dynamic_f1': 0.6111, 'change_point_f1': 0.2126, 'beat_f1': 0.8114, 'downbeat_f1': 0.445}\n"
     ]
    },
    {
     "data": {
      "text/plain": [
       "CompletedProcess(args=['python', 'pytorch/final_evaluation.py', '--ckpt_dir', \"/media/mengh/SharedData/zhanh/202505_dynest_data/workspaces/checkpoint2/ablation mmoe8 1x1-sone-MultiTaskCNN-['dynamic', 'change_point', 'beat', 'downbeat']-fold0\", '--infer_split_csv', '/media/mengh/SharedData/zhanh/202505_dynest_data/workspaces/split_5fold_fold0_seed86.csv', '--output_dir', '/media/mengh/SharedData/zhanh/202505_dynest_data/workspaces/outputs', '--valf1_rank', '1', '--min_epoch', '8'], returncode=0)"
      ]
     },
     "execution_count": 6,
     "metadata": {},
     "output_type": "execute_result"
    }
   ],
   "source": [
    "# No Temporal Scaling\n",
    "import subprocess\n",
    "OUT = \"/media/mengh/SharedData/zhanh/202505_dynest_data/workspaces/outputs\"\n",
    "CKPT=\"/media/mengh/SharedData/zhanh/202505_dynest_data/workspaces/checkpoint2/ablation mmoe8 1x1-sone-MultiTaskCNN-['dynamic', 'change_point', 'beat', 'downbeat']-fold{f}\"\n",
    "CSV=\"/media/mengh/SharedData/zhanh/202505_dynest_data/workspaces/split_5fold_fold{f}_seed86.csv\"\n",
    "f=0\n",
    "ckpt_dir = CKPT.format(f=f)\n",
    "csv_path = CSV.format(f=f)\n",
    "common = [\n",
    "    \"--ckpt_dir\", ckpt_dir,\n",
    "    \"--infer_split_csv\", csv_path,\n",
    "    \"--output_dir\", OUT,\n",
    "    \"--valf1_rank\", \"1\",\n",
    "    \"--min_epoch\", \"8\",\n",
    "] # Run inference then evaluation for this fold\n",
    "subprocess.run([\"python\", \"pytorch/inference.py\", *common], check=True)\n",
    "subprocess.run([\"python\", \"pytorch/final_evaluation.py\", *common], check=True)"
   ]
  },
  {
   "cell_type": "code",
   "execution_count": 5,
   "id": "b61da617",
   "metadata": {},
   "outputs": [
    {
     "name": "stderr",
     "output_type": "stream",
     "text": [
      "Files epoch_56_valf1_0.48065.pth: 100%|██████████| 407/407 [00:16<00:00, 25.08it/s]\n"
     ]
    },
    {
     "name": "stdout",
     "output_type": "stream",
     "text": [
      "[epoch_56_valf1_0.48065.pth] Exported 407 file(s) under /media/mengh/SharedData/zhanh/202505_dynest_data/workspaces/outputs/ablation no_augment-sone-MultiTaskCNN-['dynamic', 'change_point', 'beat', 'downbeat']-fold0/epoch_56_valf1_0.48065\n",
      "epoch_56_valf1_0.48065.pth -> {'dynamic_f1': 0.5507, 'change_point_f1': 0.1837, 'beat_f1': 0.8383, 'downbeat_f1': 0.5363}\n"
     ]
    },
    {
     "data": {
      "text/plain": [
       "CompletedProcess(args=['python', 'pytorch/final_evaluation.py', '--ckpt_dir', \"/media/mengh/SharedData/zhanh/202505_dynest_data/workspaces/checkpoints/ablation no_augment-sone-MultiTaskCNN-['dynamic', 'change_point', 'beat', 'downbeat']-fold0\", '--infer_split_csv', '/media/mengh/SharedData/zhanh/202505_dynest_data/workspaces/split_5fold_fold0_seed86.csv', '--output_dir', '/media/mengh/SharedData/zhanh/202505_dynest_data/workspaces/outputs', '--valf1_rank', '1', '--min_epoch', '8'], returncode=0)"
      ]
     },
     "execution_count": 5,
     "metadata": {},
     "output_type": "execute_result"
    }
   ],
   "source": [
    "# No Data Augmentation\n",
    "import subprocess\n",
    "OUT = \"/media/mengh/SharedData/zhanh/202505_dynest_data/workspaces/outputs\"\n",
    "CKPT=\"/media/mengh/SharedData/zhanh/202505_dynest_data/workspaces/checkpoints/ablation no_augment-sone-MultiTaskCNN-['dynamic', 'change_point', 'beat', 'downbeat']-fold{f}\"\n",
    "CSV=\"/media/mengh/SharedData/zhanh/202505_dynest_data/workspaces/split_5fold_fold{f}_seed86.csv\"\n",
    "f=0\n",
    "ckpt_dir = CKPT.format(f=f)\n",
    "csv_path = CSV.format(f=f)\n",
    "common = [\n",
    "    \"--ckpt_dir\", ckpt_dir,\n",
    "    \"--infer_split_csv\", csv_path,\n",
    "    \"--output_dir\", OUT,\n",
    "    \"--valf1_rank\", \"1\",\n",
    "    \"--min_epoch\", \"8\",\n",
    "] # Run inference then evaluation for this fold\n",
    "subprocess.run([\"python\", \"pytorch/inference.py\", *common], check=True)\n",
    "subprocess.run([\"python\", \"pytorch/final_evaluation.py\", *common], check=True)"
   ]
  },
  {
   "cell_type": "code",
   "execution_count": 1,
   "id": "75d645fc",
   "metadata": {},
   "outputs": [
    {
     "name": "stderr",
     "output_type": "stream",
     "text": [
      "Files epoch_72_valf1_0.55030.pth: 100%|██████████| 407/407 [00:20<00:00, 19.65it/s]\n"
     ]
    },
    {
     "name": "stdout",
     "output_type": "stream",
     "text": [
      "[epoch_72_valf1_0.55030.pth] Exported 407 file(s) under /media/mengh/SharedData/zhanh/202505_dynest_data/workspaces/outputs/ablation uses 30s-sone-MultiTaskCNN-['dynamic', 'change_point', 'beat', 'downbeat']-fold0/epoch_72_valf1_0.55030\n",
      "epoch_72_valf1_0.55030.pth -> {'dynamic_f1': 0.5545, 'change_point_f1': 0.2083, 'beat_f1': 0.8396, 'downbeat_f1': 0.5336}\n"
     ]
    },
    {
     "data": {
      "text/plain": [
       "CompletedProcess(args=['python', 'pytorch/final_evaluation.py', '--ckpt_dir', \"/media/mengh/SharedData/zhanh/202505_dynest_data/workspaces/checkpoints/ablation uses 30s-sone-MultiTaskCNN-['dynamic', 'change_point', 'beat', 'downbeat']-fold0\", '--infer_split_csv', '/media/mengh/SharedData/zhanh/202505_dynest_data/workspaces/split_5fold_fold0_seed86.csv', '--output_dir', '/media/mengh/SharedData/zhanh/202505_dynest_data/workspaces/outputs', '--valf1_rank', '1', '--min_epoch', '8'], returncode=0)"
      ]
     },
     "execution_count": 1,
     "metadata": {},
     "output_type": "execute_result"
    }
   ],
   "source": [
    "# Uses 30s segment instead of 60s (default is 60s)\n",
    "import subprocess\n",
    "OUT = \"/media/mengh/SharedData/zhanh/202505_dynest_data/workspaces/outputs\"\n",
    "CKPT=\"/media/mengh/SharedData/zhanh/202505_dynest_data/workspaces/checkpoints/ablation uses 30s-sone-MultiTaskCNN-['dynamic', 'change_point', 'beat', 'downbeat']-fold0\"\n",
    "CSV=\"/media/mengh/SharedData/zhanh/202505_dynest_data/workspaces/split_5fold_fold{f}_seed86.csv\"\n",
    "f=0\n",
    "ckpt_dir = CKPT.format(f=f)\n",
    "csv_path = CSV.format(f=f)\n",
    "common = [\n",
    "    \"--ckpt_dir\", ckpt_dir,\n",
    "    \"--infer_split_csv\", csv_path,\n",
    "    \"--output_dir\", OUT,\n",
    "    \"--valf1_rank\", \"1\",\n",
    "    \"--min_epoch\", \"8\",\n",
    "] # Run inference then evaluation for this fold\n",
    "subprocess.run([\"python\", \"pytorch/inference.py\", *common], check=True)\n",
    "subprocess.run([\"python\", \"pytorch/final_evaluation.py\", *common], check=True)"
   ]
  }
 ],
 "metadata": {
  "kernelspec": {
   "display_name": "dynest",
   "language": "python",
   "name": "python3"
  },
  "language_info": {
   "codemirror_mode": {
    "name": "ipython",
    "version": 3
   },
   "file_extension": ".py",
   "mimetype": "text/x-python",
   "name": "python",
   "nbconvert_exporter": "python",
   "pygments_lexer": "ipython3",
   "version": "3.11.11"
  }
 },
 "nbformat": 4,
 "nbformat_minor": 5
}
