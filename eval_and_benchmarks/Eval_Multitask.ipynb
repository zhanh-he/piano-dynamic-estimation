{
 "cells": [
  {
   "cell_type": "markdown",
   "id": "8736705e",
   "metadata": {},
   "source": [
    "# Multitask model results & Ablation study\n",
    "- All acquired from the evaluation history recoreded in this notebook.\n",
    "- Select the hightest validation F1 score's checkpoint from each fold, to evaluate on the final test split;\n",
    "- Start from 8th epoch to ensure the training converged, otherwise a high standard deviation of F1 scores.\n",
    "\n",
    "---\n",
    "# 1) Formal result (Table 1 in paper)\n",
    "#### MultiTaskCNN ['dynamic','change_point','beat','downbeat'] + BSSL\n",
    "| Fold | Checkpoint                  | Dynamic F1 | Change-Point F1 | Beat F1 | Downbeat F1 |\n",
    "|-----:|-----------------------------|-----------:|----------------:|--------:|------------:|\n",
    "| 0    | epoch_96_valf1_0.53453.pth  | 0.6850     | 0.4236          | 0.8633  | 0.6357      |\n",
    "| 1    | epoch_72_valf1_0.55627.pth  | 0.4862     | 0.2360          | 0.8414  | 0.5402      |\n",
    "| 2    | epoch_120_valf1_0.52512.pth | 0.6108     | 0.1777          | 0.8323  | 0.5296      |\n",
    "| 3    | epoch_88_valf1_0.55493.pth  | 0.4495     | 0.1570          | 0.8444  | 0.5270      |\n",
    "| 4    | epoch_120_valf1_0.51272.pth | 0.4879     | 0.3119          | 0.8244  | 0.5268      |\n",
    "| **Mean ± Std** | —                 | **0.5439 ± 0.0892** | **0.2612 ± 0.0974** | **0.8412 ± 0.0131** | **0.5519 ± 0.0422** |\n",
    "\n",
    "\n",
    "#### MultiTaskCNN ['dynamic','change_point','beat','downbeat'] + Log-Mel\n",
    "| Fold | Checkpoint                 | Dynamic F1 | Change-Point F1 |  Beat F1 | Downbeat F1 |\n",
    "|-----:|----------------------------|-----------:|----------------:|---------:|------------:|\n",
    "| 0    | epoch_8_valf1_0.50143.pth  | 0.6611     | 0.2447          | 0.8684   | 0.6939      |\n",
    "| 1    | epoch_72_valf1_0.51853.pth | 0.4409     | 0.1641          | 0.8182   | 0.5435      |\n",
    "| 2    | epoch_32_valf1_0.53565.pth | 0.6096     | 0.1837          | 0.8264   | 0.5281      |\n",
    "| 3    | epoch_48_valf1_0.52768.pth | 0.3741     | 0.2222          | 0.8411   | 0.6110      |\n",
    "| 4    | epoch_24_valf1_0.50265.pth | 0.4542     | 0.3388          | 0.8316   | 0.5467      |\n",
    "| **Mean ± Std** | —                | **0.5080 ± 0.1087** | **0.2307 ± 0.0610** | **0.8371 ± 0.0173** | **0.5846 ± 0.0616** |\n",
    "\n",
    "\n",
    "---\n",
    "# 2) Ablation study (Table 2 in paper)\n",
    "**MultiTaskCNN ['dynamic','change_point','beat','downbeat']  (BSSL input)**\n",
    "\n",
    "#### Total Summary\n",
    "| Model Variant            | Scaling | MMoE | Data Aug | 60 Segs | Dynamic F1 | Change-Point F1 | Beat F1 | Downbeat F1 | Average F1 |\n",
    "|-------------------------|:------:|:---:|:-------:|:--------:|-----------:|----------------:|--------:|------------:|-----------:|\n",
    "| **Proposed**            | 5×5    | ✓   | ✓       | ✓        | 0.5439     | 0.2612          | 0.8412  | 0.5519      | 0.5496     |\n",
    "| **No MMoE**             | 5×5    | ×   | ✓       | ✓        | 0.5279     | 0.2204          | 0.8294  | 0.5175      | 0.5238     |\n",
    "| **No Temporal Scaling** | 1×1    | ✓   | ✓       | ✓        | 0.5053     | 0.1332          | 0.8029  | 0.4186      | 0.4650     |\n",
    "| **No Data Augmentation**| 5×5    | ✓   | ×       | ✓        | 0.5047     | 0.1958          | 0.8316  | 0.5173      | 0.5124     |\n",
    "| **Use 30s Segments**    | 5×5    | ✓   | ✓       | ×        | 0.4914     | 0.1917          | 0.8338  | 0.5274      | 0.5111     |\n",
    "\n",
    "#### No MMoE\n",
    "| Fold | Dynamic F1 | Change-Point F1 | Beat F1 | Downbeat F1 | Average F1 |\n",
    "|-----:|-----------:|----------------:|--------:|------------:|-----------:|\n",
    "| 0    | 0.6042     | 0.2436          | 0.8360  | 0.5335      | 0.5543     |\n",
    "| 1    | 0.4685     | 0.2405          | 0.8231  | 0.5221      | 0.5136     |\n",
    "| 2    | 0.4607     | 0.1425          | 0.8425  | 0.5170      | 0.4907     |\n",
    "| 3    | 0.5486     | 0.1920          | 0.8140  | 0.4916      | 0.5116     |\n",
    "| 4    | 0.5574     | 0.2832          | 0.8316  | 0.5235      | 0.5489     |\n",
    "| **Mean ± Std** | **0.5279 ± 0.0551** | **0.2204 ± 0.0485** | **0.8294 ± 0.0100** | **0.5175 ± 0.0140** | **0.5238 ± 0.0241** |\n",
    "\n",
    "#### No Temporal Scaling (s=1)\n",
    "| Fold | Dynamic F1 | Change-Point F1 | Beat F1 | Downbeat F1 | Average F1 |\n",
    "|-----:|-----------:|----------------:|--------:|------------:|-----------:|\n",
    "| 0    | 0.6061     | 0.1432          | 0.8038  | 0.4219      | 0.4938     |\n",
    "| 1    | 0.6445     | 0.2316          | 0.8046  | 0.4392      | 0.5300     |\n",
    "| 2    | 0.4608     | 0.0677          | 0.8104  | 0.4131      | 0.4380     |\n",
    "| 3    | 0.3144     | 0.0554          | 0.8086  | 0.4148      | 0.3983     |\n",
    "| 4    | 0.5009     | 0.1679          | 0.7870  | 0.4040      | 0.4650     |\n",
    "| **Mean ± Std** | **0.5053 ± 0.1304** | **0.1332 ± 0.0730** | **0.8029 ± 0.0093** | **0.4186 ± 0.0132** | **0.4650 ± 0.0506** |\n",
    "\n",
    "#### No data augmentation\n",
    "| Fold | Dynamic F1 | Change-Point F1 | Beat F1 | Downbeat F1 | Average F1 |\n",
    "|-----:|-----------:|----------------:|--------:|------------:|-----------:|\n",
    "| 0    | 0.5507     | 0.1837          | 0.8383  | 0.5363      | 0.5273     |\n",
    "| 1    | 0.4037     | 0.2040          | 0.8251  | 0.5068      | 0.4849     |\n",
    "| 2    | 0.4823     | 0.1900          | 0.8485  | 0.5310      | 0.5130     |\n",
    "| 3    | 0.5644     | 0.1549          | 0.8211  | 0.5072      | 0.5119     |\n",
    "| 4    | 0.5226     | 0.2463          | 0.8252  | 0.5051      | 0.5248     |\n",
    "| **Mean ± Std** | **0.5047 ± 0.0578** | **0.1958 ± 0.0299** | **0.8316 ± 0.0102** | **0.5173 ± 0.0135** | **0.5124 ± 0.0150** |\n",
    "\n",
    "#### Use 30s segment instead of 60s\n",
    "| Fold | Dynamic F1 | Change-Point F1 | Beat F1 | Downbeat F1 | Average F1 |\n",
    "|-----:|-----------:|----------------:|--------:|------------:|-----------:|\n",
    "| 0    | 0.5373     | 0.2016          | 0.8408  | 0.5357      | 0.5289     |\n",
    "| 1    | 0.4222     | 0.2064          | 0.8309  | 0.5347      | 0.4986     |\n",
    "| 2    | 0.4098     | 0.1493          | 0.8494  | 0.5402      | 0.4872     |\n",
    "| 3    | 0.5435     | 0.1778          | 0.8273  | 0.5163      | 0.5162     |\n",
    "| 4    | 0.5442     | 0.2236          | 0.8204  | 0.5102      | 0.5246     |\n",
    "| **Mean ± Std** | **0.4914 ± 0.0617** | **0.1917 ± 0.0258** | **0.8338 ± 0.0102** | **0.5274 ± 0.0119** | **0.5111 ± 0.0158** |\n",
    "\n",
    "---\n",
    "# Evaluation history in below - 1. Multitask model"
   ]
  },
  {
   "cell_type": "code",
   "execution_count": null,
   "id": "04bc6ff4",
   "metadata": {},
   "outputs": [
    {
     "name": "stderr",
     "output_type": "stream",
     "text": [
      "Files epoch_96_valf1_0.53453.pth: 100%|██████████| 407/407 [00:15<00:00, 25.89it/s]\n"
     ]
    },
    {
     "name": "stdout",
     "output_type": "stream",
     "text": [
      "[epoch_96_valf1_0.53453.pth] Exported 407 file(s) under /media/mengh/SharedData/zhanh/202505_dynest_data/workspaces/outputs/formal latent8 mmoe8 5x5-sone-MultiTaskCNN-['dynamic', 'change_point', 'beat', 'downbeat']-fold0/epoch_96_valf1_0.53453\n",
      "epoch_96_valf1_0.53453.pth -> {'dynamic_f1': 0.685, 'change_point_f1': 0.4236, 'beat_f1': 0.8633, 'downbeat_f1': 0.6357}\n"
     ]
    },
    {
     "name": "stderr",
     "output_type": "stream",
     "text": [
      "Files epoch_72_valf1_0.55627.pth: 100%|██████████| 407/407 [00:16<00:00, 24.10it/s]\n"
     ]
    },
    {
     "name": "stdout",
     "output_type": "stream",
     "text": [
      "[epoch_72_valf1_0.55627.pth] Exported 407 file(s) under /media/mengh/SharedData/zhanh/202505_dynest_data/workspaces/outputs/formal latent8 mmoe8 5x5-sone-MultiTaskCNN-['dynamic', 'change_point', 'beat', 'downbeat']-fold1/epoch_72_valf1_0.55627\n",
      "epoch_72_valf1_0.55627.pth -> {'dynamic_f1': 0.4862, 'change_point_f1': 0.236, 'beat_f1': 0.8414, 'downbeat_f1': 0.5402}\n"
     ]
    },
    {
     "name": "stderr",
     "output_type": "stream",
     "text": [
      "Files epoch_120_valf1_0.52512.pth: 100%|██████████| 374/374 [00:16<00:00, 23.33it/s]\n"
     ]
    },
    {
     "name": "stdout",
     "output_type": "stream",
     "text": [
      "[epoch_120_valf1_0.52512.pth] Exported 374 file(s) under /media/mengh/SharedData/zhanh/202505_dynest_data/workspaces/outputs/formal latent8 mmoe8 5x5-sone-MultiTaskCNN-['dynamic', 'change_point', 'beat', 'downbeat']-fold2/epoch_120_valf1_0.52512\n",
      "epoch_120_valf1_0.52512.pth -> {'dynamic_f1': 0.6108, 'change_point_f1': 0.1777, 'beat_f1': 0.8323, 'downbeat_f1': 0.5296}\n"
     ]
    },
    {
     "name": "stderr",
     "output_type": "stream",
     "text": [
      "Files epoch_88_valf1_0.55493.pth: 100%|██████████| 406/406 [00:16<00:00, 24.32it/s]\n"
     ]
    },
    {
     "name": "stdout",
     "output_type": "stream",
     "text": [
      "[epoch_88_valf1_0.55493.pth] Exported 406 file(s) under /media/mengh/SharedData/zhanh/202505_dynest_data/workspaces/outputs/formal latent8 mmoe8 5x5-sone-MultiTaskCNN-['dynamic', 'change_point', 'beat', 'downbeat']-fold3/epoch_88_valf1_0.55493\n",
      "epoch_88_valf1_0.55493.pth -> {'dynamic_f1': 0.4495, 'change_point_f1': 0.157, 'beat_f1': 0.8444, 'downbeat_f1': 0.527}\n"
     ]
    },
    {
     "name": "stderr",
     "output_type": "stream",
     "text": [
      "Files epoch_120_valf1_0.51272.pth: 100%|██████████| 404/404 [00:15<00:00, 25.62it/s]\n"
     ]
    },
    {
     "name": "stdout",
     "output_type": "stream",
     "text": [
      "[epoch_120_valf1_0.51272.pth] Exported 404 file(s) under /media/mengh/SharedData/zhanh/202505_dynest_data/workspaces/outputs/formal latent8 mmoe8 5x5-sone-MultiTaskCNN-['dynamic', 'change_point', 'beat', 'downbeat']-fold4/epoch_120_valf1_0.51272\n",
      "epoch_120_valf1_0.51272.pth -> {'dynamic_f1': 0.4879, 'change_point_f1': 0.3119, 'beat_f1': 0.8244, 'downbeat_f1': 0.5268}\n"
     ]
    }
   ],
   "source": [
    "import subprocess\n",
    "OUT = \"/media/mengh/SharedData/zhanh/202505_dynest_data/workspaces/outputs\"\n",
    "CKPT=\"/media/mengh/SharedData/zhanh/202505_dynest_data/workspaces/checkpoints/formal latent8 mmoe8 5x5-sone-MultiTaskCNN-['dynamic', 'change_point', 'beat', 'downbeat']-fold{f}\"\n",
    "CSV=\"/media/mengh/SharedData/zhanh/202505_dynest_data/workspaces/split_5fold_fold{f}_seed86.csv\"\n",
    "for f in range(5):\n",
    "    ckpt_dir = CKPT.format(f=f)\n",
    "    csv_path = CSV.format(f=f)\n",
    "    common = [\n",
    "        \"--ckpt_dir\", ckpt_dir,\n",
    "        \"--infer_split_csv\", csv_path,\n",
    "        \"--output_dir\", OUT,\n",
    "        \"--valf1_rank\", \"1\",\n",
    "        \"--min_epoch\", \"8\",\n",
    "    ] # Run inference then evaluation for this fold\n",
    "    subprocess.run([\"python\", \"pytorch/inference.py\", *common], check=True)\n",
    "    subprocess.run([\"python\", \"pytorch/final_evaluation.py\", *common], check=True)"
   ]
  },
  {
   "cell_type": "code",
   "execution_count": null,
   "id": "ae678190",
   "metadata": {},
   "outputs": [
    {
     "name": "stderr",
     "output_type": "stream",
     "text": [
      "Files epoch_8_valf1_0.50143.pth: 100%|██████████| 407/407 [00:12<00:00, 31.51it/s]\n"
     ]
    },
    {
     "name": "stdout",
     "output_type": "stream",
     "text": [
      "[epoch_8_valf1_0.50143.pth] Exported 407 file(s) under /media/mengh/SharedData/zhanh/202505_dynest_data/workspaces/outputs/formal latent8 mmoe8 5x5-logmel-MultiTaskCNN-['dynamic', 'change_point', 'beat', 'downbeat']-fold0/epoch_8_valf1_0.50143\n",
      "epoch_8_valf1_0.50143.pth -> {'dynamic_f1': 0.6611, 'change_point_f1': 0.2447, 'beat_f1': 0.8684, 'downbeat_f1': 0.6939}\n"
     ]
    },
    {
     "name": "stderr",
     "output_type": "stream",
     "text": [
      "Files epoch_72_valf1_0.51853.pth: 100%|██████████| 407/407 [00:13<00:00, 30.88it/s]\n"
     ]
    },
    {
     "name": "stdout",
     "output_type": "stream",
     "text": [
      "[epoch_72_valf1_0.51853.pth] Exported 407 file(s) under /media/mengh/SharedData/zhanh/202505_dynest_data/workspaces/outputs/formal latent8 mmoe8 5x5-logmel-MultiTaskCNN-['dynamic', 'change_point', 'beat', 'downbeat']-fold1/epoch_72_valf1_0.51853\n",
      "epoch_72_valf1_0.51853.pth -> {'dynamic_f1': 0.4409, 'change_point_f1': 0.1641, 'beat_f1': 0.8182, 'downbeat_f1': 0.5435}\n"
     ]
    },
    {
     "name": "stderr",
     "output_type": "stream",
     "text": [
      "Files epoch_32_valf1_0.53565.pth: 100%|██████████| 374/374 [00:11<00:00, 31.90it/s]\n"
     ]
    },
    {
     "name": "stdout",
     "output_type": "stream",
     "text": [
      "[epoch_32_valf1_0.53565.pth] Exported 374 file(s) under /media/mengh/SharedData/zhanh/202505_dynest_data/workspaces/outputs/formal latent8 mmoe8 5x5-logmel-MultiTaskCNN-['dynamic', 'change_point', 'beat', 'downbeat']-fold2/epoch_32_valf1_0.53565\n",
      "epoch_32_valf1_0.53565.pth -> {'dynamic_f1': 0.6096, 'change_point_f1': 0.1837, 'beat_f1': 0.8264, 'downbeat_f1': 0.5281}\n"
     ]
    },
    {
     "name": "stderr",
     "output_type": "stream",
     "text": [
      "Files epoch_48_valf1_0.52768.pth: 100%|██████████| 406/406 [00:12<00:00, 31.48it/s]\n"
     ]
    },
    {
     "name": "stdout",
     "output_type": "stream",
     "text": [
      "[epoch_48_valf1_0.52768.pth] Exported 406 file(s) under /media/mengh/SharedData/zhanh/202505_dynest_data/workspaces/outputs/formal latent8 mmoe8 5x5-logmel-MultiTaskCNN-['dynamic', 'change_point', 'beat', 'downbeat']-fold3/epoch_48_valf1_0.52768\n",
      "epoch_48_valf1_0.52768.pth -> {'dynamic_f1': 0.3741, 'change_point_f1': 0.2222, 'beat_f1': 0.8411, 'downbeat_f1': 0.611}\n"
     ]
    },
    {
     "name": "stderr",
     "output_type": "stream",
     "text": [
      "Files epoch_24_valf1_0.50265.pth: 100%|██████████| 404/404 [00:11<00:00, 35.95it/s]\n"
     ]
    },
    {
     "name": "stdout",
     "output_type": "stream",
     "text": [
      "[epoch_24_valf1_0.50265.pth] Exported 404 file(s) under /media/mengh/SharedData/zhanh/202505_dynest_data/workspaces/outputs/formal latent8 mmoe8 5x5-logmel-MultiTaskCNN-['dynamic', 'change_point', 'beat', 'downbeat']-fold4/epoch_24_valf1_0.50265\n",
      "epoch_24_valf1_0.50265.pth -> {'dynamic_f1': 0.4542, 'change_point_f1': 0.3388, 'beat_f1': 0.8316, 'downbeat_f1': 0.5467}\n"
     ]
    }
   ],
   "source": [
    "import subprocess\n",
    "OUT = \"/media/mengh/SharedData/zhanh/202505_dynest_data/workspaces/outputs\"\n",
    "CKPT= \"/media/mengh/SharedData/zhanh/202505_dynest_data/workspaces/checkpoints/formal latent8 mmoe8 5x5-logmel-MultiTaskCNN-['dynamic', 'change_point', 'beat', 'downbeat']-fold{f}\"\n",
    "CSV = \"/media/mengh/SharedData/zhanh/202505_dynest_data/workspaces/split_5fold_fold{f}_seed86.csv\"\n",
    "for f in range(5):\n",
    "    ckpt_dir = CKPT.format(f=f)\n",
    "    csv_path = CSV.format(f=f)\n",
    "    common = [\n",
    "        \"--ckpt_dir\", ckpt_dir,\n",
    "        \"--infer_split_csv\", csv_path,\n",
    "        \"--output_dir\", OUT,\n",
    "        \"--valf1_rank\", \"1\",\n",
    "        \"--min_epoch\", \"8\",\n",
    "    ] # Run inference then evaluation for this fold\n",
    "    subprocess.run([\"python\", \"pytorch/inference.py\", *common], check=True)\n",
    "    subprocess.run([\"python\", \"pytorch/final_evaluation.py\", *common], check=True)"
   ]
  },
  {
   "cell_type": "markdown",
   "id": "392b73dc",
   "metadata": {},
   "source": [
    "\n",
    "---\n",
    "# Evaluation history in below - 2. Ablation study on MMoE and Scaling Factor "
   ]
  },
  {
   "cell_type": "code",
   "execution_count": 13,
   "id": "9129db78",
   "metadata": {},
   "outputs": [
    {
     "name": "stderr",
     "output_type": "stream",
     "text": [
      "Files epoch_8_valf1_0.53390.pth: 100%|██████████| 407/407 [00:14<00:00, 27.83it/s]\n"
     ]
    },
    {
     "name": "stdout",
     "output_type": "stream",
     "text": [
      "[epoch_8_valf1_0.53390.pth] Exported 407 file(s) under /media/mengh/SharedData/zhanh/202505_dynest_data/workspaces/outputs/ablation no_mmoe8 5x5-sone-MultiTaskCNN-['dynamic', 'change_point', 'beat', 'downbeat']-fold0/epoch_8_valf1_0.53390\n",
      "epoch_8_valf1_0.53390.pth -> {'dynamic_f1': 0.6042, 'change_point_f1': 0.2436, 'beat_f1': 0.836, 'downbeat_f1': 0.5335}\n"
     ]
    },
    {
     "name": "stderr",
     "output_type": "stream",
     "text": [
      "Files epoch_60_valf1_0.53360.pth: 100%|██████████| 399/399 [00:14<00:00, 27.46it/s]\n"
     ]
    },
    {
     "name": "stdout",
     "output_type": "stream",
     "text": [
      "[epoch_60_valf1_0.53360.pth] Exported 399 file(s) under /media/mengh/SharedData/zhanh/202505_dynest_data/workspaces/outputs/ablation no_mmoe8 5x5-sone-MultiTaskCNN-['dynamic', 'change_point', 'beat', 'downbeat']-fold1/epoch_60_valf1_0.53360\n",
      "epoch_60_valf1_0.53360.pth -> {'dynamic_f1': 0.4685, 'change_point_f1': 0.2405, 'beat_f1': 0.8231, 'downbeat_f1': 0.5221}\n"
     ]
    },
    {
     "name": "stderr",
     "output_type": "stream",
     "text": [
      "Files epoch_24_valf1_0.54097.pth: 100%|██████████| 376/376 [00:15<00:00, 23.81it/s]\n"
     ]
    },
    {
     "name": "stdout",
     "output_type": "stream",
     "text": [
      "[epoch_24_valf1_0.54097.pth] Exported 376 file(s) under /media/mengh/SharedData/zhanh/202505_dynest_data/workspaces/outputs/ablation no_mmoe8 5x5-sone-MultiTaskCNN-['dynamic', 'change_point', 'beat', 'downbeat']-fold2/epoch_24_valf1_0.54097\n",
      "epoch_24_valf1_0.54097.pth -> {'dynamic_f1': 0.4607, 'change_point_f1': 0.1425, 'beat_f1': 0.8425, 'downbeat_f1': 0.517}\n"
     ]
    },
    {
     "name": "stderr",
     "output_type": "stream",
     "text": [
      "Files epoch_48_valf1_0.55382.pth: 100%|██████████| 409/409 [00:20<00:00, 19.69it/s]\n"
     ]
    },
    {
     "name": "stdout",
     "output_type": "stream",
     "text": [
      "[epoch_48_valf1_0.55382.pth] Exported 409 file(s) under /media/mengh/SharedData/zhanh/202505_dynest_data/workspaces/outputs/ablation no_mmoe8 5x5-sone-MultiTaskCNN-['dynamic', 'change_point', 'beat', 'downbeat']-fold3/epoch_48_valf1_0.55382\n",
      "epoch_48_valf1_0.55382.pth -> {'dynamic_f1': 0.5486, 'change_point_f1': 0.192, 'beat_f1': 0.814, 'downbeat_f1': 0.4916}\n"
     ]
    },
    {
     "name": "stderr",
     "output_type": "stream",
     "text": [
      "Files epoch_16_valf1_0.52322.pth: 100%|██████████| 408/408 [00:12<00:00, 32.62it/s]\n"
     ]
    },
    {
     "name": "stdout",
     "output_type": "stream",
     "text": [
      "[epoch_16_valf1_0.52322.pth] Exported 408 file(s) under /media/mengh/SharedData/zhanh/202505_dynest_data/workspaces/outputs/ablation no_mmoe8 5x5-sone-MultiTaskCNN-['dynamic', 'change_point', 'beat', 'downbeat']-fold4/epoch_16_valf1_0.52322\n",
      "epoch_16_valf1_0.52322.pth -> {'dynamic_f1': 0.5574, 'change_point_f1': 0.2832, 'beat_f1': 0.8316, 'downbeat_f1': 0.5235}\n"
     ]
    }
   ],
   "source": [
    "# No MMoE\n",
    "import subprocess\n",
    "OUT = \"/media/mengh/SharedData/zhanh/202505_dynest_data/workspaces/outputs\"\n",
    "CKPT=\"/media/mengh/SharedData/zhanh/202505_dynest_data/workspaces/checkpoints/ablation no_mmoe8 5x5-sone-MultiTaskCNN-['dynamic', 'change_point', 'beat', 'downbeat']-fold{f}\"\n",
    "CSV=\"/media/mengh/SharedData/zhanh/202505_dynest_data/workspaces/split_5fold_fold{f}_seed86.csv\"\n",
    "for f in range(5):\n",
    "    ckpt_dir = CKPT.format(f=f)\n",
    "    csv_path = CSV.format(f=f)\n",
    "    common = [\n",
    "        \"--ckpt_dir\", ckpt_dir,\n",
    "        \"--infer_split_csv\", csv_path,\n",
    "        \"--output_dir\", OUT,\n",
    "        \"--valf1_rank\", \"1\",\n",
    "        \"--min_epoch\", \"8\",\n",
    "    ] # Run inference then evaluation for this fold\n",
    "    subprocess.run([\"python\", \"pytorch/inference.py\", *common], check=True)\n",
    "    subprocess.run([\"python\", \"pytorch/final_evaluation.py\", *common], check=True)"
   ]
  },
  {
   "cell_type": "code",
   "execution_count": null,
   "id": "aaf25bd8",
   "metadata": {},
   "outputs": [
    {
     "name": "stderr",
     "output_type": "stream",
     "text": [
      "Files epoch_24_valf1_0.46925.pth: 100%|██████████| 407/407 [00:29<00:00, 13.88it/s]\n"
     ]
    },
    {
     "name": "stdout",
     "output_type": "stream",
     "text": [
      "[epoch_24_valf1_0.46925.pth] Exported 407 file(s) under /media/mengh/SharedData/zhanh/202505_dynest_data/workspaces/outputs/ablation mmoe8 1x1-sone-MultiTaskCNN-['dynamic', 'change_point', 'beat', 'downbeat']-fold0/epoch_24_valf1_0.46925\n",
      "epoch_24_valf1_0.46925.pth -> {'dynamic_f1': 0.6061, 'change_point_f1': 0.1432, 'beat_f1': 0.8038, 'downbeat_f1': 0.4219}\n"
     ]
    },
    {
     "name": "stderr",
     "output_type": "stream",
     "text": [
      "Files epoch_32_valf1_0.49187.pth: 100%|██████████| 399/399 [00:32<00:00, 12.42it/s]\n"
     ]
    },
    {
     "name": "stdout",
     "output_type": "stream",
     "text": [
      "[epoch_32_valf1_0.49187.pth] Exported 399 file(s) under /media/mengh/SharedData/zhanh/202505_dynest_data/workspaces/outputs/ablation mmoe8 1x1-sone-MultiTaskCNN-['dynamic', 'change_point', 'beat', 'downbeat']-fold1/epoch_32_valf1_0.49187\n",
      "epoch_32_valf1_0.49187.pth -> {'dynamic_f1': 0.6445, 'change_point_f1': 0.2316, 'beat_f1': 0.8046, 'downbeat_f1': 0.4392}\n"
     ]
    },
    {
     "name": "stderr",
     "output_type": "stream",
     "text": [
      "Files epoch_8_valf1_0.46800.pth: 100%|██████████| 376/376 [00:29<00:00, 12.76it/s]\n"
     ]
    },
    {
     "name": "stdout",
     "output_type": "stream",
     "text": [
      "[epoch_8_valf1_0.46800.pth] Exported 376 file(s) under /media/mengh/SharedData/zhanh/202505_dynest_data/workspaces/outputs/ablation mmoe8 1x1-sone-MultiTaskCNN-['dynamic', 'change_point', 'beat', 'downbeat']-fold2/epoch_8_valf1_0.46800\n",
      "epoch_8_valf1_0.46800.pth -> {'dynamic_f1': 0.4608, 'change_point_f1': 0.0677, 'beat_f1': 0.8104, 'downbeat_f1': 0.4131}\n"
     ]
    },
    {
     "name": "stderr",
     "output_type": "stream",
     "text": [
      "Files epoch_8_valf1_0.47258.pth: 100%|██████████| 406/406 [00:34<00:00, 11.79it/s]\n"
     ]
    },
    {
     "name": "stdout",
     "output_type": "stream",
     "text": [
      "[epoch_8_valf1_0.47258.pth] Exported 406 file(s) under /media/mengh/SharedData/zhanh/202505_dynest_data/workspaces/outputs/ablation mmoe8 1x1-sone-MultiTaskCNN-['dynamic', 'change_point', 'beat', 'downbeat']-fold3/epoch_8_valf1_0.47258\n",
      "epoch_8_valf1_0.47258.pth -> {'dynamic_f1': 0.3144, 'change_point_f1': 0.0554, 'beat_f1': 0.8086, 'downbeat_f1': 0.4148}\n"
     ]
    },
    {
     "name": "stderr",
     "output_type": "stream",
     "text": [
      "Files epoch_24_valf1_0.45970.pth: 100%|██████████| 404/404 [00:28<00:00, 14.02it/s]\n"
     ]
    },
    {
     "name": "stdout",
     "output_type": "stream",
     "text": [
      "[epoch_24_valf1_0.45970.pth] Exported 404 file(s) under /media/mengh/SharedData/zhanh/202505_dynest_data/workspaces/outputs/ablation mmoe8 1x1-sone-MultiTaskCNN-['dynamic', 'change_point', 'beat', 'downbeat']-fold4/epoch_24_valf1_0.45970\n",
      "epoch_24_valf1_0.45970.pth -> {'dynamic_f1': 0.5009, 'change_point_f1': 0.1679, 'beat_f1': 0.787, 'downbeat_f1': 0.404}\n"
     ]
    }
   ],
   "source": [
    "# No Temporal Scaling\n",
    "import subprocess\n",
    "OUT = \"/media/mengh/SharedData/zhanh/202505_dynest_data/workspaces/outputs\"\n",
    "CKPT=\"/media/mengh/SharedData/zhanh/202505_dynest_data/workspaces/checkpoints/ablation mmoe8 1x1-sone-MultiTaskCNN-['dynamic', 'change_point', 'beat', 'downbeat']-fold{f}\"\n",
    "CSV=\"/media/mengh/SharedData/zhanh/202505_dynest_data/workspaces/split_5fold_fold{f}_seed86.csv\"\n",
    "for f in range(5):\n",
    "    ckpt_dir = CKPT.format(f=f)\n",
    "    csv_path = CSV.format(f=f)\n",
    "    common = [\n",
    "        \"--ckpt_dir\", ckpt_dir,\n",
    "        \"--infer_split_csv\", csv_path,\n",
    "        \"--output_dir\", OUT,\n",
    "        \"--valf1_rank\", \"1\",\n",
    "        \"--min_epoch\", \"8\",\n",
    "    ] # Run inference then evaluation for this fold\n",
    "    subprocess.run([\"python\", \"pytorch/inference.py\", *common], check=True)\n",
    "    subprocess.run([\"python\", \"pytorch/final_evaluation.py\", *common], check=True)"
   ]
  },
  {
   "cell_type": "code",
   "execution_count": null,
   "id": "47cce54f",
   "metadata": {},
   "outputs": [
    {
     "name": "stderr",
     "output_type": "stream",
     "text": [
      "Files epoch_56_valf1_0.48065.pth: 100%|██████████| 407/407 [00:16<00:00, 25.40it/s]\n"
     ]
    },
    {
     "name": "stdout",
     "output_type": "stream",
     "text": [
      "[epoch_56_valf1_0.48065.pth] Exported 407 file(s) under /media/mengh/SharedData/zhanh/202505_dynest_data/workspaces/outputs/ablation mmoe8 5x5 no_augment-sone-MultiTaskCNN-['dynamic', 'change_point', 'beat', 'downbeat']-fold0/epoch_56_valf1_0.48065\n",
      "epoch_56_valf1_0.48065.pth -> {'dynamic_f1': 0.5507, 'change_point_f1': 0.1837, 'beat_f1': 0.8383, 'downbeat_f1': 0.5363}\n"
     ]
    },
    {
     "name": "stderr",
     "output_type": "stream",
     "text": [
      "Files epoch_72_valf1_0.51235.pth: 100%|██████████| 399/399 [00:18<00:00, 21.04it/s]\n"
     ]
    },
    {
     "name": "stdout",
     "output_type": "stream",
     "text": [
      "[epoch_72_valf1_0.51235.pth] Exported 399 file(s) under /media/mengh/SharedData/zhanh/202505_dynest_data/workspaces/outputs/ablation mmoe8 5x5 no_augment-sone-MultiTaskCNN-['dynamic', 'change_point', 'beat', 'downbeat']-fold1/epoch_72_valf1_0.51235\n",
      "epoch_72_valf1_0.51235.pth -> {'dynamic_f1': 0.4037, 'change_point_f1': 0.204, 'beat_f1': 0.8251, 'downbeat_f1': 0.5068}\n"
     ]
    },
    {
     "name": "stderr",
     "output_type": "stream",
     "text": [
      "Files epoch_64_valf1_0.52672.pth: 100%|██████████| 376/376 [00:13<00:00, 27.51it/s]\n"
     ]
    },
    {
     "name": "stdout",
     "output_type": "stream",
     "text": [
      "[epoch_64_valf1_0.52672.pth] Exported 376 file(s) under /media/mengh/SharedData/zhanh/202505_dynest_data/workspaces/outputs/ablation mmoe8 5x5 no_augment-sone-MultiTaskCNN-['dynamic', 'change_point', 'beat', 'downbeat']-fold2/epoch_64_valf1_0.52672\n",
      "epoch_64_valf1_0.52672.pth -> {'dynamic_f1': 0.4823, 'change_point_f1': 0.19, 'beat_f1': 0.8485, 'downbeat_f1': 0.531}\n"
     ]
    },
    {
     "name": "stderr",
     "output_type": "stream",
     "text": [
      "Files epoch_80_valf1_0.55415.pth: 100%|██████████| 409/409 [00:29<00:00, 14.03it/s]\n"
     ]
    },
    {
     "name": "stdout",
     "output_type": "stream",
     "text": [
      "[epoch_80_valf1_0.55415.pth] Exported 409 file(s) under /media/mengh/SharedData/zhanh/202505_dynest_data/workspaces/outputs/ablation mmoe8 5x5 no_augment-sone-MultiTaskCNN-['dynamic', 'change_point', 'beat', 'downbeat']-fold3/epoch_80_valf1_0.55415\n",
      "epoch_80_valf1_0.55415.pth -> {'dynamic_f1': 0.5644, 'change_point_f1': 0.1549, 'beat_f1': 0.8211, 'downbeat_f1': 0.5072}\n"
     ]
    },
    {
     "name": "stderr",
     "output_type": "stream",
     "text": [
      "Files epoch_32_valf1_0.52292.pth: 100%|██████████| 408/408 [00:17<00:00, 24.00it/s]\n"
     ]
    },
    {
     "name": "stdout",
     "output_type": "stream",
     "text": [
      "[epoch_32_valf1_0.52292.pth] Exported 408 file(s) under /media/mengh/SharedData/zhanh/202505_dynest_data/workspaces/outputs/ablation mmoe8 5x5 no_augment-sone-MultiTaskCNN-['dynamic', 'change_point', 'beat', 'downbeat']-fold4/epoch_32_valf1_0.52292\n",
      "epoch_32_valf1_0.52292.pth -> {'dynamic_f1': 0.5226, 'change_point_f1': 0.2463, 'beat_f1': 0.8252, 'downbeat_f1': 0.5051}\n"
     ]
    }
   ],
   "source": [
    "# No Data Augmentation\n",
    "import subprocess\n",
    "OUT = \"/media/mengh/SharedData/zhanh/202505_dynest_data/workspaces/outputs\"\n",
    "CKPT=\"/media/mengh/SharedData/zhanh/202505_dynest_data/workspaces/checkpoints/ablation mmoe8 5x5 no_augment-sone-MultiTaskCNN-['dynamic', 'change_point', 'beat', 'downbeat']-fold{f}\"\n",
    "CSV=\"/media/mengh/SharedData/zhanh/202505_dynest_data/workspaces/split_5fold_fold{f}_seed86.csv\"\n",
    "for f in range(5):\n",
    "    ckpt_dir = CKPT.format(f=f)\n",
    "    csv_path = CSV.format(f=f)\n",
    "    common = [\n",
    "        \"--ckpt_dir\", ckpt_dir,\n",
    "        \"--infer_split_csv\", csv_path,\n",
    "        \"--output_dir\", OUT,\n",
    "        \"--valf1_rank\", \"1\",\n",
    "        \"--min_epoch\", \"8\",\n",
    "    ] # Run inference then evaluation for this fold\n",
    "    subprocess.run([\"python\", \"pytorch/inference.py\", *common], check=True)\n",
    "    subprocess.run([\"python\", \"pytorch/final_evaluation.py\", *common], check=True)"
   ]
  },
  {
   "cell_type": "code",
   "execution_count": 14,
   "id": "103e2b6e",
   "metadata": {},
   "outputs": [
    {
     "name": "stderr",
     "output_type": "stream",
     "text": [
      "Files epoch_48_valf1_0.49130.pth: 100%|██████████| 407/407 [00:18<00:00, 22.49it/s]\n"
     ]
    },
    {
     "name": "stdout",
     "output_type": "stream",
     "text": [
      "[epoch_48_valf1_0.49130.pth] Exported 407 file(s) under /media/mengh/SharedData/zhanh/202505_dynest_data/workspaces/outputs/ablation mmoe8 5x5 30s-sone-MultiTaskCNN-['dynamic', 'change_point', 'beat', 'downbeat']-fold0/epoch_48_valf1_0.49130\n",
      "epoch_48_valf1_0.49130.pth -> {'dynamic_f1': 0.5373, 'change_point_f1': 0.2016, 'beat_f1': 0.8408, 'downbeat_f1': 0.5357}\n"
     ]
    },
    {
     "name": "stderr",
     "output_type": "stream",
     "text": [
      "Files epoch_48_valf1_0.50465.pth: 100%|██████████| 399/399 [00:19<00:00, 19.97it/s]\n"
     ]
    },
    {
     "name": "stdout",
     "output_type": "stream",
     "text": [
      "[epoch_48_valf1_0.50465.pth] Exported 399 file(s) under /media/mengh/SharedData/zhanh/202505_dynest_data/workspaces/outputs/ablation mmoe8 5x5 30s-sone-MultiTaskCNN-['dynamic', 'change_point', 'beat', 'downbeat']-fold1/epoch_48_valf1_0.50465\n",
      "epoch_48_valf1_0.50465.pth -> {'dynamic_f1': 0.4222, 'change_point_f1': 0.2064, 'beat_f1': 0.8309, 'downbeat_f1': 0.5347}\n"
     ]
    },
    {
     "name": "stderr",
     "output_type": "stream",
     "text": [
      "Files epoch_24_valf1_0.53038.pth: 100%|██████████| 376/376 [00:16<00:00, 23.17it/s]\n"
     ]
    },
    {
     "name": "stdout",
     "output_type": "stream",
     "text": [
      "[epoch_24_valf1_0.53038.pth] Exported 376 file(s) under /media/mengh/SharedData/zhanh/202505_dynest_data/workspaces/outputs/ablation mmoe8 5x5 30s-sone-MultiTaskCNN-['dynamic', 'change_point', 'beat', 'downbeat']-fold2/epoch_24_valf1_0.53038\n",
      "epoch_24_valf1_0.53038.pth -> {'dynamic_f1': 0.4098, 'change_point_f1': 0.1493, 'beat_f1': 0.8494, 'downbeat_f1': 0.5402}\n"
     ]
    },
    {
     "name": "stderr",
     "output_type": "stream",
     "text": [
      "Files epoch_56_valf1_0.54473.pth: 100%|██████████| 409/409 [00:19<00:00, 20.66it/s]\n"
     ]
    },
    {
     "name": "stdout",
     "output_type": "stream",
     "text": [
      "[epoch_56_valf1_0.54473.pth] Exported 409 file(s) under /media/mengh/SharedData/zhanh/202505_dynest_data/workspaces/outputs/ablation mmoe8 5x5 30s-sone-MultiTaskCNN-['dynamic', 'change_point', 'beat', 'downbeat']-fold3/epoch_56_valf1_0.54473\n",
      "epoch_56_valf1_0.54473.pth -> {'dynamic_f1': 0.5435, 'change_point_f1': 0.1778, 'beat_f1': 0.8273, 'downbeat_f1': 0.5163}\n"
     ]
    },
    {
     "name": "stderr",
     "output_type": "stream",
     "text": [
      "Files epoch_80_valf1_0.53338.pth: 100%|██████████| 408/408 [00:12<00:00, 32.50it/s]\n"
     ]
    },
    {
     "name": "stdout",
     "output_type": "stream",
     "text": [
      "[epoch_80_valf1_0.53338.pth] Exported 408 file(s) under /media/mengh/SharedData/zhanh/202505_dynest_data/workspaces/outputs/ablation mmoe8 5x5 30s-sone-MultiTaskCNN-['dynamic', 'change_point', 'beat', 'downbeat']-fold4/epoch_80_valf1_0.53338\n",
      "epoch_80_valf1_0.53338.pth -> {'dynamic_f1': 0.5442, 'change_point_f1': 0.2236, 'beat_f1': 0.8204, 'downbeat_f1': 0.5102}\n"
     ]
    }
   ],
   "source": [
    "# Uses 30s segment instead of 60s (default is 60s)\n",
    "import subprocess\n",
    "OUT = \"/media/mengh/SharedData/zhanh/202505_dynest_data/workspaces/outputs\"\n",
    "CKPT=\"/media/mengh/SharedData/zhanh/202505_dynest_data/workspaces/checkpoints/ablation mmoe8 5x5 30s-sone-MultiTaskCNN-['dynamic', 'change_point', 'beat', 'downbeat']-fold{f}\"\n",
    "CSV=\"/media/mengh/SharedData/zhanh/202505_dynest_data/workspaces/split_5fold_fold{f}_seed86.csv\"\n",
    "for f in range(5):\n",
    "    ckpt_dir = CKPT.format(f=f)\n",
    "    csv_path = CSV.format(f=f)\n",
    "    common = [\n",
    "        \"--ckpt_dir\", ckpt_dir,\n",
    "        \"--infer_split_csv\", csv_path,\n",
    "        \"--output_dir\", OUT,\n",
    "        \"--valf1_rank\", \"1\",\n",
    "        \"--min_epoch\", \"8\",\n",
    "    ] # Run inference then evaluation for this fold\n",
    "    subprocess.run([\"python\", \"pytorch/inference.py\", *common], check=True)\n",
    "    subprocess.run([\"python\", \"pytorch/final_evaluation.py\", *common], check=True)"
   ]
  }
 ],
 "metadata": {
  "kernelspec": {
   "display_name": "dynest",
   "language": "python",
   "name": "python3"
  },
  "language_info": {
   "codemirror_mode": {
    "name": "ipython",
    "version": 3
   },
   "file_extension": ".py",
   "mimetype": "text/x-python",
   "name": "python",
   "nbconvert_exporter": "python",
   "pygments_lexer": "ipython3",
   "version": "3.11.11"
  }
 },
 "nbformat": 4,
 "nbformat_minor": 5
}
