{
 "cells": [
  {
   "cell_type": "markdown",
   "id": "f14d7790",
   "metadata": {},
   "source": [
    "# Single-task model results\n",
    "- All acquired from the evaluation history recoreded in this notebook.\n",
    "- Select the hightest validation F1 score's checkpoint from each fold, to evaluate on the final test split;\n",
    "- Start from 8th epoch to ensure the training converged, otherwise a high standard deviation of F1 scores.\n",
    "\n",
    "### 1) When using the BSSL as input\n",
    "\n",
    "#### SingleCNN — BSSL\n",
    "| Fold | Dynamic F1 | Change-Point F1 | Beat F1 | Downbeat F1 |\n",
    "|-----:|-----------:|----------------:|--------:|------------:|\n",
    "| 0    | 0.6646     | 0.4031          | 0.8560  | 0.4798      |\n",
    "| 1    | 0.3668     | 0.1734          | 0.8552  | 0.4539      |\n",
    "| 2    | 0.5413     | 0.1528          | 0.8189  | 0.4328      |\n",
    "| 3    | 0.5261     | 0.1174          | 0.8276  | 0.4376      |\n",
    "| 4    | 0.4333     | 0.1966          | 0.8405  | 0.4463      |\n",
    "| **Mean ± Std** | **0.5064 ± 0.1014** | **0.2104 ± 0.0985** | **0.8396 ± 0.0147** | **0.4501 ± 0.0165** |\n",
    "\n",
    "\n",
    "### 2) When using the Log-Mel as input\n",
    "\n",
    "#### LogMel SingleCNN — Combined (Dynamic / Change-Point / Beat / Downbeat)\n",
    "| Fold | Dynamic F1 | Change-Point F1 | Beat F1 | Downbeat F1 |\n",
    "|-----:|-----------:|----------------:|--------:|------------:|\n",
    "| 0    | 0.6753     | 0.2572          | 0.8645  | 0.6825      |\n",
    "| 1    | 0.3372     | 0.1902          | 0.8501  | 0.5501      |\n",
    "| 2    | 0.5056     | 0.1132          | 0.8123  | 0.4534      |\n",
    "| 3    | 0.5474     | 0.1174          | 0.8273  | 0.5283      |\n",
    "| 4    | 0.4544     | 0.1966          | 0.8349  | 0.5186      |\n",
    "| **Mean ± Std** | **0.5040 ± 0.1109** | **0.1749 ± 0.0540** | **0.8378 ± 0.0180** | **0.5466 ± 0.0752** |\n",
    "\n",
    "---\n",
    "# Evaluation history are recorded in below - 1. Single-task model + BSSL \n",
    "\n"
   ]
  },
  {
   "cell_type": "code",
   "execution_count": 3,
   "id": "d89a08e0",
   "metadata": {},
   "outputs": [
    {
     "name": "stderr",
     "output_type": "stream",
     "text": [
      "Files epoch_8_valf1_0.42280.pth: 100%|██████████| 407/407 [00:24<00:00, 16.67it/s]\n"
     ]
    },
    {
     "name": "stdout",
     "output_type": "stream",
     "text": [
      "[epoch_8_valf1_0.42280.pth] Exported 407 file(s) under /media/datadisk/home/22828187/zhanh/202505_dynest_data/workspaces/outputs/formal-sone-SingleCNN-['dynamic']-fold0/epoch_8_valf1_0.42280\n",
      "epoch_8_valf1_0.42280.pth -> {'dynamic_f1': 0.6646}\n"
     ]
    },
    {
     "name": "stderr",
     "output_type": "stream",
     "text": [
      "Files epoch_56_valf1_0.58840.pth: 100%|██████████| 407/407 [00:41<00:00,  9.80it/s]\n"
     ]
    },
    {
     "name": "stdout",
     "output_type": "stream",
     "text": [
      "[epoch_56_valf1_0.58840.pth] Exported 407 file(s) under /media/datadisk/home/22828187/zhanh/202505_dynest_data/workspaces/outputs/formal-sone-SingleCNN-['dynamic']-fold1/epoch_56_valf1_0.58840\n",
      "epoch_56_valf1_0.58840.pth -> {'dynamic_f1': 0.3668}\n"
     ]
    },
    {
     "name": "stderr",
     "output_type": "stream",
     "text": [
      "Files epoch_80_valf1_0.56360.pth: 100%|██████████| 374/374 [00:41<00:00,  8.98it/s]\n"
     ]
    },
    {
     "name": "stdout",
     "output_type": "stream",
     "text": [
      "[epoch_80_valf1_0.56360.pth] Exported 374 file(s) under /media/datadisk/home/22828187/zhanh/202505_dynest_data/workspaces/outputs/formal-sone-SingleCNN-['dynamic']-fold2/epoch_80_valf1_0.56360\n",
      "epoch_80_valf1_0.56360.pth -> {'dynamic_f1': 0.5413}\n"
     ]
    },
    {
     "name": "stderr",
     "output_type": "stream",
     "text": [
      "Files epoch_8_valf1_0.49780.pth: 100%|██████████| 406/406 [00:41<00:00,  9.84it/s]\n"
     ]
    },
    {
     "name": "stdout",
     "output_type": "stream",
     "text": [
      "[epoch_8_valf1_0.49780.pth] Exported 406 file(s) under /media/datadisk/home/22828187/zhanh/202505_dynest_data/workspaces/outputs/formal-sone-SingleCNN-['dynamic']-fold3/epoch_8_valf1_0.49780\n",
      "epoch_8_valf1_0.49780.pth -> {'dynamic_f1': 0.5261}\n"
     ]
    },
    {
     "name": "stderr",
     "output_type": "stream",
     "text": [
      "Files epoch_32_valf1_0.48300.pth: 100%|██████████| 404/404 [00:28<00:00, 13.94it/s]\n"
     ]
    },
    {
     "name": "stdout",
     "output_type": "stream",
     "text": [
      "[epoch_32_valf1_0.48300.pth] Exported 404 file(s) under /media/datadisk/home/22828187/zhanh/202505_dynest_data/workspaces/outputs/formal-sone-SingleCNN-['dynamic']-fold4/epoch_32_valf1_0.48300\n",
      "epoch_32_valf1_0.48300.pth -> {'dynamic_f1': 0.4333}\n"
     ]
    }
   ],
   "source": [
    "import subprocess\n",
    "OUT = \"/media/datadisk/home/22828187/zhanh/202505_dynest_data/workspaces/outputs\"\n",
    "CKPT = \"/media/datadisk/home/22828187/zhanh/202505_dynest_data/workspaces/checkpoints/formal-sone-SingleCNN-['dynamic']-fold{f}\"\n",
    "CSV  = \"/media/datadisk/home/22828187/zhanh/202505_dynest_data/workspaces/split_5fold_fold{f}_seed86.csv\"\n",
    "for f in range(5):\n",
    "    ckpt_dir = CKPT.format(f=f)\n",
    "    csv_path = CSV.format(f=f)\n",
    "    common = [\n",
    "        \"--ckpt_dir\", ckpt_dir,\n",
    "        \"--infer_split_csv\", csv_path,\n",
    "        \"--output_dir\", OUT,\n",
    "        \"--valf1_rank\", \"1\",\n",
    "        \"--min_epoch\", \"8\",\n",
    "    ]\n",
    "    subprocess.run([\"python\", \"pytorch/inference.py\", *common], check=True)\n",
    "    subprocess.run([\"python\", \"pytorch/final_evaluation.py\", *common], check=True)"
   ]
  },
  {
   "cell_type": "code",
   "execution_count": 5,
   "id": "f8390074",
   "metadata": {},
   "outputs": [
    {
     "name": "stderr",
     "output_type": "stream",
     "text": [
      "Files epoch_96_valf1_0.18030.pth: 100%|██████████| 407/407 [00:19<00:00, 20.59it/s]\n"
     ]
    },
    {
     "name": "stdout",
     "output_type": "stream",
     "text": [
      "[epoch_96_valf1_0.18030.pth] Exported 407 file(s) under /media/datadisk/home/22828187/zhanh/202505_dynest_data/workspaces/outputs/formal-sone-SingleCNN-['change_point']-fold0/epoch_96_valf1_0.18030\n",
      "epoch_96_valf1_0.18030.pth -> {'change_point_f1': 0.2572}\n"
     ]
    },
    {
     "name": "stderr",
     "output_type": "stream",
     "text": [
      "Files epoch_120_valf1_0.11940.pth: 100%|██████████| 407/407 [00:28<00:00, 14.06it/s]\n"
     ]
    },
    {
     "name": "stdout",
     "output_type": "stream",
     "text": [
      "[epoch_120_valf1_0.11940.pth] Exported 407 file(s) under /media/datadisk/home/22828187/zhanh/202505_dynest_data/workspaces/outputs/formal-sone-SingleCNN-['change_point']-fold1/epoch_120_valf1_0.11940\n",
      "epoch_120_valf1_0.11940.pth -> {'change_point_f1': 0.1902}\n"
     ]
    },
    {
     "name": "stderr",
     "output_type": "stream",
     "text": [
      "Files epoch_120_valf1_0.09630.pth: 100%|██████████| 374/374 [00:20<00:00, 18.49it/s]\n"
     ]
    },
    {
     "name": "stdout",
     "output_type": "stream",
     "text": [
      "[epoch_120_valf1_0.09630.pth] Exported 374 file(s) under /media/datadisk/home/22828187/zhanh/202505_dynest_data/workspaces/outputs/formal-sone-SingleCNN-['change_point']-fold2/epoch_120_valf1_0.09630\n",
      "epoch_120_valf1_0.09630.pth -> {'change_point_f1': 0.1132}\n"
     ]
    },
    {
     "name": "stderr",
     "output_type": "stream",
     "text": [
      "Files epoch_104_valf1_0.18870.pth: 100%|██████████| 406/406 [00:19<00:00, 21.35it/s]\n"
     ]
    },
    {
     "name": "stdout",
     "output_type": "stream",
     "text": [
      "[epoch_104_valf1_0.18870.pth] Exported 406 file(s) under /media/datadisk/home/22828187/zhanh/202505_dynest_data/workspaces/outputs/formal-sone-SingleCNN-['change_point']-fold3/epoch_104_valf1_0.18870\n",
      "epoch_104_valf1_0.18870.pth -> {'change_point_f1': 0.1174}\n"
     ]
    },
    {
     "name": "stderr",
     "output_type": "stream",
     "text": [
      "Files epoch_104_valf1_0.23340.pth: 100%|██████████| 404/404 [00:22<00:00, 17.84it/s]\n"
     ]
    },
    {
     "name": "stdout",
     "output_type": "stream",
     "text": [
      "[epoch_104_valf1_0.23340.pth] Exported 404 file(s) under /media/datadisk/home/22828187/zhanh/202505_dynest_data/workspaces/outputs/formal-sone-SingleCNN-['change_point']-fold4/epoch_104_valf1_0.23340\n",
      "epoch_104_valf1_0.23340.pth -> {'change_point_f1': 0.1966}\n"
     ]
    }
   ],
   "source": [
    "import subprocess\n",
    "OUT = \"/media/datadisk/home/22828187/zhanh/202505_dynest_data/workspaces/outputs\"\n",
    "CKPT = \"/media/datadisk/home/22828187/zhanh/202505_dynest_data/workspaces/checkpoints/formal-sone-SingleCNN-['change_point']-fold{f}\"\n",
    "CSV  = \"/media/datadisk/home/22828187/zhanh/202505_dynest_data/workspaces/split_5fold_fold{f}_seed86.csv\"\n",
    "for f in range(5):\n",
    "    ckpt_dir = CKPT.format(f=f)\n",
    "    csv_path = CSV.format(f=f)\n",
    "    common = [\n",
    "        \"--ckpt_dir\", ckpt_dir,\n",
    "        \"--infer_split_csv\", csv_path,\n",
    "        \"--output_dir\", OUT,\n",
    "        \"--valf1_rank\", \"1\",\n",
    "        \"--min_epoch\", \"8\",\n",
    "    ] # [WARN] Please be patient. Picking change points from the ground truth beat positions take ~1h with limited print_outs. \n",
    "    subprocess.run([\"python\", \"pytorch/inference.py\", *common], check=True)\n",
    "    subprocess.run([\"python\", \"pytorch/final_evaluation.py\", *common], check=True)"
   ]
  },
  {
   "cell_type": "code",
   "execution_count": null,
   "id": "2bb6c312",
   "metadata": {},
   "outputs": [
    {
     "name": "stderr",
     "output_type": "stream",
     "text": [
      "Files epoch_16_valf1_0.85060.pth: 100%|██████████| 407/407 [00:43<00:00,  9.29it/s]\n"
     ]
    },
    {
     "name": "stdout",
     "output_type": "stream",
     "text": [
      "[epoch_16_valf1_0.85060.pth] Exported 407 file(s) under /media/datadisk/home/22828187/zhanh/202505_dynest_data/workspaces/outputs/formal-sone-SingleCNN-['beat']-fold0/epoch_16_valf1_0.85060\n",
      "epoch_16_valf1_0.85060.pth -> {'beat_f1': 0.856}\n"
     ]
    },
    {
     "name": "stderr",
     "output_type": "stream",
     "text": [
      "Files epoch_8_valf1_0.83060.pth: 100%|██████████| 407/407 [00:34<00:00, 11.68it/s]\n"
     ]
    },
    {
     "name": "stdout",
     "output_type": "stream",
     "text": [
      "[epoch_8_valf1_0.83060.pth] Exported 407 file(s) under /media/datadisk/home/22828187/zhanh/202505_dynest_data/workspaces/outputs/formal-sone-SingleCNN-['beat']-fold1/epoch_8_valf1_0.83060\n",
      "epoch_8_valf1_0.83060.pth -> {'beat_f1': 0.8552}\n"
     ]
    },
    {
     "name": "stderr",
     "output_type": "stream",
     "text": [
      "Files epoch_8_valf1_0.83090.pth: 100%|██████████| 374/374 [00:38<00:00,  9.78it/s]\n"
     ]
    },
    {
     "name": "stdout",
     "output_type": "stream",
     "text": [
      "[epoch_8_valf1_0.83090.pth] Exported 374 file(s) under /media/datadisk/home/22828187/zhanh/202505_dynest_data/workspaces/outputs/formal-sone-SingleCNN-['beat']-fold2/epoch_8_valf1_0.83090\n",
      "epoch_8_valf1_0.83090.pth -> {'beat_f1': 0.8189}\n"
     ]
    },
    {
     "name": "stderr",
     "output_type": "stream",
     "text": [
      "Files epoch_16_valf1_0.83410.pth: 100%|██████████| 406/406 [00:39<00:00, 10.29it/s]\n"
     ]
    },
    {
     "name": "stdout",
     "output_type": "stream",
     "text": [
      "[epoch_16_valf1_0.83410.pth] Exported 406 file(s) under /media/datadisk/home/22828187/zhanh/202505_dynest_data/workspaces/outputs/formal-sone-SingleCNN-['beat']-fold3/epoch_16_valf1_0.83410\n",
      "epoch_16_valf1_0.83410.pth -> {'beat_f1': 0.8276}\n"
     ]
    },
    {
     "name": "stderr",
     "output_type": "stream",
     "text": [
      "Files epoch_8_valf1_0.84170.pth: 100%|██████████| 404/404 [00:33<00:00, 12.03it/s]\n"
     ]
    },
    {
     "name": "stdout",
     "output_type": "stream",
     "text": [
      "[epoch_8_valf1_0.84170.pth] Exported 404 file(s) under /media/datadisk/home/22828187/zhanh/202505_dynest_data/workspaces/outputs/formal-sone-SingleCNN-['beat']-fold4/epoch_8_valf1_0.84170\n",
      "epoch_8_valf1_0.84170.pth -> {'beat_f1': 0.8405}\n"
     ]
    }
   ],
   "source": [
    "import subprocess\n",
    "OUT = \"/media/datadisk/home/22828187/zhanh/202505_dynest_data/workspaces/outputs\"\n",
    "CKPT = \"/media/datadisk/home/22828187/zhanh/202505_dynest_data/workspaces/checkpoints/formal-sone-SingleCNN-['beat']-fold{f}\"\n",
    "CSV  = \"/media/datadisk/home/22828187/zhanh/202505_dynest_data/workspaces/split_5fold_fold{f}_seed86.csv\"\n",
    "for f in range(5):\n",
    "    ckpt_dir = CKPT.format(f=f)\n",
    "    csv_path = CSV.format(f=f)\n",
    "    common = [\n",
    "        \"--ckpt_dir\", ckpt_dir,\n",
    "        \"--infer_split_csv\", csv_path,\n",
    "        \"--output_dir\", OUT,\n",
    "        \"--valf1_rank\", \"1\",\n",
    "        \"--min_epoch\", \"8\",\n",
    "    ]\n",
    "    subprocess.run([\"python\", \"pytorch/inference.py\", *common], check=True)\n",
    "    subprocess.run([\"python\", \"pytorch/final_evaluation.py\", *common], check=True)"
   ]
  },
  {
   "cell_type": "code",
   "execution_count": null,
   "id": "0582acc8",
   "metadata": {},
   "outputs": [
    {
     "name": "stderr",
     "output_type": "stream",
     "text": [
      "Files epoch_8_valf1_0.45640.pth: 100%|██████████| 407/407 [00:35<00:00, 11.37it/s]\n"
     ]
    },
    {
     "name": "stdout",
     "output_type": "stream",
     "text": [
      "[epoch_8_valf1_0.45640.pth] Exported 407 file(s) under /media/datadisk/home/22828187/zhanh/202505_dynest_data/workspaces/outputs/formal-sone-SingleCNN-['downbeat']-fold0/epoch_8_valf1_0.45640\n",
      "epoch_8_valf1_0.45640.pth -> {'downbeat_f1': 0.4798}\n"
     ]
    },
    {
     "name": "stderr",
     "output_type": "stream",
     "text": [
      "Files epoch_24_valf1_0.45760.pth: 100%|██████████| 407/407 [00:33<00:00, 12.26it/s]\n"
     ]
    },
    {
     "name": "stdout",
     "output_type": "stream",
     "text": [
      "[epoch_24_valf1_0.45760.pth] Exported 407 file(s) under /media/datadisk/home/22828187/zhanh/202505_dynest_data/workspaces/outputs/formal-sone-SingleCNN-['downbeat']-fold1/epoch_24_valf1_0.45760\n",
      "epoch_24_valf1_0.45760.pth -> {'downbeat_f1': 0.4539}\n"
     ]
    },
    {
     "name": "stderr",
     "output_type": "stream",
     "text": [
      "Files epoch_8_valf1_0.45650.pth: 100%|██████████| 374/374 [00:37<00:00, 10.07it/s]\n"
     ]
    },
    {
     "name": "stdout",
     "output_type": "stream",
     "text": [
      "[epoch_8_valf1_0.45650.pth] Exported 374 file(s) under /media/datadisk/home/22828187/zhanh/202505_dynest_data/workspaces/outputs/formal-sone-SingleCNN-['downbeat']-fold2/epoch_8_valf1_0.45650\n",
      "epoch_8_valf1_0.45650.pth -> {'downbeat_f1': 0.4328}\n"
     ]
    },
    {
     "name": "stderr",
     "output_type": "stream",
     "text": [
      "Files epoch_120_valf1_0.46700.pth: 100%|██████████| 406/406 [00:35<00:00, 11.40it/s]\n"
     ]
    },
    {
     "name": "stdout",
     "output_type": "stream",
     "text": [
      "[epoch_120_valf1_0.46700.pth] Exported 406 file(s) under /media/datadisk/home/22828187/zhanh/202505_dynest_data/workspaces/outputs/formal-sone-SingleCNN-['downbeat']-fold3/epoch_120_valf1_0.46700\n",
      "epoch_120_valf1_0.46700.pth -> {'downbeat_f1': 0.4376}\n"
     ]
    },
    {
     "name": "stderr",
     "output_type": "stream",
     "text": [
      "Files epoch_72_valf1_0.43550.pth: 100%|██████████| 404/404 [00:25<00:00, 15.62it/s]\n"
     ]
    },
    {
     "name": "stdout",
     "output_type": "stream",
     "text": [
      "[epoch_72_valf1_0.43550.pth] Exported 404 file(s) under /media/datadisk/home/22828187/zhanh/202505_dynest_data/workspaces/outputs/formal-sone-SingleCNN-['downbeat']-fold4/epoch_72_valf1_0.43550\n",
      "epoch_72_valf1_0.43550.pth -> {'downbeat_f1': 0.4463}\n"
     ]
    }
   ],
   "source": [
    "import subprocess\n",
    "OUT = \"/media/datadisk/home/22828187/zhanh/202505_dynest_data/workspaces/outputs\"\n",
    "CKPT = \"/media/datadisk/home/22828187/zhanh/202505_dynest_data/workspaces/checkpoints/formal-sone-SingleCNN-['downbeat']-fold{f}\"\n",
    "CSV  = \"/media/datadisk/home/22828187/zhanh/202505_dynest_data/workspaces/split_5fold_fold{f}_seed86.csv\"\n",
    "for f in range(5):\n",
    "    ckpt_dir = CKPT.format(f=f)\n",
    "    csv_path = CSV.format(f=f)\n",
    "    common = [\n",
    "        \"--ckpt_dir\", ckpt_dir,\n",
    "        \"--infer_split_csv\", csv_path,\n",
    "        \"--output_dir\", OUT,\n",
    "        \"--valf1_rank\", \"1\",\n",
    "        \"--min_epoch\", \"8\",\n",
    "    ]\n",
    "    subprocess.run([\"python\", \"pytorch/inference.py\", *common], check=True)\n",
    "    subprocess.run([\"python\", \"pytorch/final_evaluation.py\", *common], check=True)"
   ]
  },
  {
   "cell_type": "markdown",
   "id": "a3a09e2f",
   "metadata": {},
   "source": [
    "# Evaluation history are recorded in below - 2. Single-task CNN + logMel "
   ]
  },
  {
   "cell_type": "code",
   "execution_count": null,
   "id": "8930b36a",
   "metadata": {},
   "outputs": [
    {
     "name": "stderr",
     "output_type": "stream",
     "text": [
      "Files epoch_8_valf1_0.37440.pth: 100%|██████████| 407/407 [00:15<00:00, 25.47it/s]\n"
     ]
    },
    {
     "name": "stdout",
     "output_type": "stream",
     "text": [
      "[epoch_8_valf1_0.37440.pth] Exported 407 file(s) under /media/datadisk/home/22828187/zhanh/202505_dynest_data/workspaces/outputs/formal-logmel-SingleCNN-['dynamic']-fold0/epoch_8_valf1_0.37440\n",
      "epoch_8_valf1_0.37440.pth -> {'dynamic_f1': 0.6753}\n"
     ]
    },
    {
     "name": "stderr",
     "output_type": "stream",
     "text": [
      "Files epoch_8_valf1_0.59920.pth: 100%|██████████| 407/407 [00:32<00:00, 12.68it/s]\n"
     ]
    },
    {
     "name": "stdout",
     "output_type": "stream",
     "text": [
      "[epoch_8_valf1_0.59920.pth] Exported 407 file(s) under /media/datadisk/home/22828187/zhanh/202505_dynest_data/workspaces/outputs/formal-logmel-SingleCNN-['dynamic']-fold1/epoch_8_valf1_0.59920\n",
      "epoch_8_valf1_0.59920.pth -> {'dynamic_f1': 0.3372}\n"
     ]
    },
    {
     "name": "stderr",
     "output_type": "stream",
     "text": [
      "Files epoch_80_valf1_0.54090.pth: 100%|██████████| 374/374 [00:41<00:00,  9.06it/s]\n"
     ]
    },
    {
     "name": "stdout",
     "output_type": "stream",
     "text": [
      "[epoch_80_valf1_0.54090.pth] Exported 374 file(s) under /media/datadisk/home/22828187/zhanh/202505_dynest_data/workspaces/outputs/formal-logmel-SingleCNN-['dynamic']-fold2/epoch_80_valf1_0.54090\n",
      "epoch_80_valf1_0.54090.pth -> {'dynamic_f1': 0.5056}\n"
     ]
    },
    {
     "name": "stderr",
     "output_type": "stream",
     "text": [
      "Files epoch_8_valf1_0.47340.pth: 100%|██████████| 406/406 [00:40<00:00,  9.91it/s]\n"
     ]
    },
    {
     "name": "stdout",
     "output_type": "stream",
     "text": [
      "[epoch_8_valf1_0.47340.pth] Exported 406 file(s) under /media/datadisk/home/22828187/zhanh/202505_dynest_data/workspaces/outputs/formal-logmel-SingleCNN-['dynamic']-fold3/epoch_8_valf1_0.47340\n",
      "epoch_8_valf1_0.47340.pth -> {'dynamic_f1': 0.5474}\n"
     ]
    },
    {
     "name": "stderr",
     "output_type": "stream",
     "text": [
      "Files epoch_32_valf1_0.44090.pth: 100%|██████████| 404/404 [00:28<00:00, 14.35it/s]\n"
     ]
    },
    {
     "name": "stdout",
     "output_type": "stream",
     "text": [
      "[epoch_32_valf1_0.44090.pth] Exported 404 file(s) under /media/datadisk/home/22828187/zhanh/202505_dynest_data/workspaces/outputs/formal-logmel-SingleCNN-['dynamic']-fold4/epoch_32_valf1_0.44090\n",
      "epoch_32_valf1_0.44090.pth -> {'dynamic_f1': 0.4544}\n"
     ]
    }
   ],
   "source": [
    "import subprocess\n",
    "OUT = \"/media/datadisk/home/22828187/zhanh/202505_dynest_data/workspaces/outputs\"\n",
    "CKPT = \"/media/datadisk/home/22828187/zhanh/202505_dynest_data/workspaces/checkpoints/formal-logmel-SingleCNN-['dynamic']-fold{f}\"\n",
    "CSV  = \"/media/datadisk/home/22828187/zhanh/202505_dynest_data/workspaces/split_5fold_fold{f}_seed86.csv\"\n",
    "for f in range(5):\n",
    "    ckpt_dir = CKPT.format(f=f)\n",
    "    csv_path = CSV.format(f=f)\n",
    "    common = [\n",
    "        \"--ckpt_dir\", ckpt_dir,\n",
    "        \"--infer_split_csv\", csv_path,\n",
    "        \"--output_dir\", OUT,\n",
    "        \"--valf1_rank\", \"1\",\n",
    "        \"--min_epoch\", \"8\",\n",
    "    ]\n",
    "    subprocess.run([\"python\", \"pytorch/inference.py\", *common], check=True)\n",
    "    subprocess.run([\"python\", \"pytorch/final_evaluation.py\", *common], check=True)"
   ]
  },
  {
   "cell_type": "code",
   "execution_count": null,
   "id": "fa3544a7",
   "metadata": {},
   "outputs": [
    {
     "name": "stderr",
     "output_type": "stream",
     "text": [
      "Files epoch_56_valf1_0.18230.pth: 100%|██████████| 407/407 [00:15<00:00, 25.88it/s]\n"
     ]
    },
    {
     "name": "stdout",
     "output_type": "stream",
     "text": [
      "[epoch_56_valf1_0.18230.pth] Exported 407 file(s) under /media/datadisk/home/22828187/zhanh/202505_dynest_data/workspaces/outputs/formal-logmel-SingleCNN-['change_point']-fold0/epoch_56_valf1_0.18230\n",
      "epoch_56_valf1_0.18230.pth -> {'change_point_f1': 0.4031}\n"
     ]
    },
    {
     "name": "stderr",
     "output_type": "stream",
     "text": [
      "Files epoch_88_valf1_0.14680.pth: 100%|██████████| 407/407 [00:17<00:00, 23.57it/s]\n"
     ]
    },
    {
     "name": "stdout",
     "output_type": "stream",
     "text": [
      "[epoch_88_valf1_0.14680.pth] Exported 407 file(s) under /media/datadisk/home/22828187/zhanh/202505_dynest_data/workspaces/outputs/formal-logmel-SingleCNN-['change_point']-fold1/epoch_88_valf1_0.14680\n",
      "epoch_88_valf1_0.14680.pth -> {'change_point_f1': 0.1734}\n"
     ]
    },
    {
     "name": "stderr",
     "output_type": "stream",
     "text": [
      "Files epoch_120_valf1_0.13800.pth: 100%|██████████| 374/374 [00:15<00:00, 24.49it/s]\n"
     ]
    },
    {
     "name": "stdout",
     "output_type": "stream",
     "text": [
      "[epoch_120_valf1_0.13800.pth] Exported 374 file(s) under /media/datadisk/home/22828187/zhanh/202505_dynest_data/workspaces/outputs/formal-logmel-SingleCNN-['change_point']-fold2/epoch_120_valf1_0.13800\n",
      "epoch_120_valf1_0.13800.pth -> {'change_point_f1': 0.1528}\n"
     ]
    },
    {
     "name": "stderr",
     "output_type": "stream",
     "text": [
      "Files epoch_32_valf1_0.18540.pth: 100%|██████████| 406/406 [00:14<00:00, 27.82it/s]\n"
     ]
    },
    {
     "name": "stdout",
     "output_type": "stream",
     "text": [
      "[epoch_32_valf1_0.18540.pth] Exported 406 file(s) under /media/datadisk/home/22828187/zhanh/202505_dynest_data/workspaces/outputs/formal-logmel-SingleCNN-['change_point']-fold3/epoch_32_valf1_0.18540\n",
      "epoch_32_valf1_0.18540.pth -> {'change_point_f1': 0.1305}\n"
     ]
    },
    {
     "name": "stderr",
     "output_type": "stream",
     "text": [
      "Files epoch_48_valf1_0.20490.pth: 100%|██████████| 404/404 [00:14<00:00, 27.57it/s]\n"
     ]
    },
    {
     "name": "stdout",
     "output_type": "stream",
     "text": [
      "[epoch_48_valf1_0.20490.pth] Exported 404 file(s) under /media/datadisk/home/22828187/zhanh/202505_dynest_data/workspaces/outputs/formal-logmel-SingleCNN-['change_point']-fold4/epoch_48_valf1_0.20490\n",
      "epoch_48_valf1_0.20490.pth -> {'change_point_f1': 0.192}\n"
     ]
    }
   ],
   "source": [
    "import subprocess\n",
    "OUT = \"/media/datadisk/home/22828187/zhanh/202505_dynest_data/workspaces/outputs\"\n",
    "CKPT = \"/media/datadisk/home/22828187/zhanh/202505_dynest_data/workspaces/checkpoints/formal-logmel-SingleCNN-['change_point']-fold{f}\"\n",
    "CSV  = \"/media/datadisk/home/22828187/zhanh/202505_dynest_data/workspaces/split_5fold_fold{f}_seed86.csv\"\n",
    "for f in range(5):\n",
    "    ckpt_dir = CKPT.format(f=f)\n",
    "    csv_path = CSV.format(f=f)\n",
    "    common = [\n",
    "        \"--ckpt_dir\", ckpt_dir,\n",
    "        \"--infer_split_csv\", csv_path,\n",
    "        \"--output_dir\", OUT,\n",
    "        \"--valf1_rank\", \"1\",\n",
    "        \"--min_epoch\", \"8\",\n",
    "    ]\n",
    "    subprocess.run([\"python\", \"pytorch/inference.py\", *common], check=True)\n",
    "    subprocess.run([\"python\", \"pytorch/final_evaluation.py\", *common], check=True)"
   ]
  },
  {
   "cell_type": "code",
   "execution_count": null,
   "id": "582f69fc",
   "metadata": {},
   "outputs": [
    {
     "name": "stderr",
     "output_type": "stream",
     "text": [
      "Files epoch_8_valf1_0.84250.pth: 100%|██████████| 407/407 [00:30<00:00, 13.27it/s]\n"
     ]
    },
    {
     "name": "stdout",
     "output_type": "stream",
     "text": [
      "[epoch_8_valf1_0.84250.pth] Exported 407 file(s) under /media/datadisk/home/22828187/zhanh/202505_dynest_data/workspaces/outputs/formal-logmel-SingleCNN-['beat']-fold0/epoch_8_valf1_0.84250\n",
      "epoch_8_valf1_0.84250.pth -> {'beat_f1': 0.8645}\n"
     ]
    },
    {
     "name": "stderr",
     "output_type": "stream",
     "text": [
      "Files epoch_8_valf1_0.81280.pth: 100%|██████████| 407/407 [00:27<00:00, 15.04it/s]\n"
     ]
    },
    {
     "name": "stdout",
     "output_type": "stream",
     "text": [
      "[epoch_8_valf1_0.81280.pth] Exported 407 file(s) under /media/datadisk/home/22828187/zhanh/202505_dynest_data/workspaces/outputs/formal-logmel-SingleCNN-['beat']-fold1/epoch_8_valf1_0.81280\n",
      "epoch_8_valf1_0.81280.pth -> {'beat_f1': 0.8501}\n"
     ]
    },
    {
     "name": "stderr",
     "output_type": "stream",
     "text": [
      "Files epoch_8_valf1_0.84100.pth: 100%|██████████| 374/374 [00:42<00:00,  8.74it/s]\n"
     ]
    },
    {
     "name": "stdout",
     "output_type": "stream",
     "text": [
      "[epoch_8_valf1_0.84100.pth] Exported 374 file(s) under /media/datadisk/home/22828187/zhanh/202505_dynest_data/workspaces/outputs/formal-logmel-SingleCNN-['beat']-fold2/epoch_8_valf1_0.84100\n",
      "epoch_8_valf1_0.84100.pth -> {'beat_f1': 0.8123}\n"
     ]
    },
    {
     "name": "stderr",
     "output_type": "stream",
     "text": [
      "Files epoch_8_valf1_0.83640.pth: 100%|██████████| 406/406 [00:27<00:00, 14.94it/s]\n"
     ]
    },
    {
     "name": "stdout",
     "output_type": "stream",
     "text": [
      "[epoch_8_valf1_0.83640.pth] Exported 406 file(s) under /media/datadisk/home/22828187/zhanh/202505_dynest_data/workspaces/outputs/formal-logmel-SingleCNN-['beat']-fold3/epoch_8_valf1_0.83640\n",
      "epoch_8_valf1_0.83640.pth -> {'beat_f1': 0.8273}\n"
     ]
    },
    {
     "name": "stderr",
     "output_type": "stream",
     "text": [
      "Files epoch_8_valf1_0.84080.pth: 100%|██████████| 404/404 [00:27<00:00, 14.81it/s]\n"
     ]
    },
    {
     "name": "stdout",
     "output_type": "stream",
     "text": [
      "[epoch_8_valf1_0.84080.pth] Exported 404 file(s) under /media/datadisk/home/22828187/zhanh/202505_dynest_data/workspaces/outputs/formal-logmel-SingleCNN-['beat']-fold4/epoch_8_valf1_0.84080\n",
      "epoch_8_valf1_0.84080.pth -> {'beat_f1': 0.8349}\n"
     ]
    }
   ],
   "source": [
    "import subprocess\n",
    "OUT = \"/media/datadisk/home/22828187/zhanh/202505_dynest_data/workspaces/outputs\"\n",
    "CKPT = \"/media/datadisk/home/22828187/zhanh/202505_dynest_data/workspaces/checkpoints/formal-logmel-SingleCNN-['beat']-fold{f}\"\n",
    "CSV  = \"/media/datadisk/home/22828187/zhanh/202505_dynest_data/workspaces/split_5fold_fold{f}_seed86.csv\"\n",
    "for f in range(5):\n",
    "    ckpt_dir = CKPT.format(f=f)\n",
    "    csv_path = CSV.format(f=f)\n",
    "    common = [\n",
    "        \"--ckpt_dir\", ckpt_dir,\n",
    "        \"--infer_split_csv\", csv_path,\n",
    "        \"--output_dir\", OUT,\n",
    "        \"--valf1_rank\", \"1\",\n",
    "        \"--min_epoch\", \"8\",\n",
    "    ]\n",
    "    subprocess.run([\"python\", \"pytorch/inference.py\", *common], check=True)\n",
    "    subprocess.run([\"python\", \"pytorch/final_evaluation.py\", *common], check=True)"
   ]
  },
  {
   "cell_type": "code",
   "execution_count": null,
   "id": "4b3dc7a7",
   "metadata": {},
   "outputs": [
    {
     "name": "stderr",
     "output_type": "stream",
     "text": [
      "Files epoch_64_valf1_0.53280.pth: 100%|█████████▉| 405/407 [00:23<00:00, 13.91it/s]"
     ]
    },
    {
     "name": "stdout",
     "output_type": "stream",
     "text": [
      "[epoch_64_valf1_0.53280.pth] Exported 407 file(s) under /media/datadisk/home/22828187/zhanh/202505_dynest_data/workspaces/outputs/formal-logmel-SingleCNN-['downbeat']-fold0/epoch_64_valf1_0.53280\n"
     ]
    },
    {
     "name": "stderr",
     "output_type": "stream",
     "text": [
      "Files epoch_64_valf1_0.53280.pth: 100%|██████████| 407/407 [00:23<00:00, 17.28it/s]\n"
     ]
    },
    {
     "name": "stdout",
     "output_type": "stream",
     "text": [
      "epoch_64_valf1_0.53280.pth -> {'downbeat_f1': 0.6825}\n"
     ]
    },
    {
     "name": "stderr",
     "output_type": "stream",
     "text": [
      "Files epoch_64_valf1_0.46640.pth: 100%|██████████| 407/407 [00:26<00:00, 15.17it/s]\n"
     ]
    },
    {
     "name": "stdout",
     "output_type": "stream",
     "text": [
      "[epoch_64_valf1_0.46640.pth] Exported 407 file(s) under /media/datadisk/home/22828187/zhanh/202505_dynest_data/workspaces/outputs/formal-logmel-SingleCNN-['downbeat']-fold1/epoch_64_valf1_0.46640\n",
      "epoch_64_valf1_0.46640.pth -> {'downbeat_f1': 0.5501}\n"
     ]
    },
    {
     "name": "stderr",
     "output_type": "stream",
     "text": [
      "Files epoch_104_valf1_0.51920.pth: 100%|██████████| 374/374 [00:28<00:00, 13.23it/s]\n"
     ]
    },
    {
     "name": "stdout",
     "output_type": "stream",
     "text": [
      "[epoch_104_valf1_0.51920.pth] Exported 374 file(s) under /media/datadisk/home/22828187/zhanh/202505_dynest_data/workspaces/outputs/formal-logmel-SingleCNN-['downbeat']-fold2/epoch_104_valf1_0.51920\n",
      "epoch_104_valf1_0.51920.pth -> {'downbeat_f1': 0.4534}\n"
     ]
    },
    {
     "name": "stderr",
     "output_type": "stream",
     "text": [
      "Files epoch_88_valf1_0.56870.pth: 100%|██████████| 406/406 [00:27<00:00, 14.64it/s]\n"
     ]
    },
    {
     "name": "stdout",
     "output_type": "stream",
     "text": [
      "[epoch_88_valf1_0.56870.pth] Exported 406 file(s) under /media/datadisk/home/22828187/zhanh/202505_dynest_data/workspaces/outputs/formal-logmel-SingleCNN-['downbeat']-fold3/epoch_88_valf1_0.56870\n",
      "epoch_88_valf1_0.56870.pth -> {'downbeat_f1': 0.5283}\n"
     ]
    },
    {
     "name": "stderr",
     "output_type": "stream",
     "text": [
      "Files epoch_48_valf1_0.48040.pth: 100%|██████████| 404/404 [00:26<00:00, 15.13it/s]\n"
     ]
    },
    {
     "name": "stdout",
     "output_type": "stream",
     "text": [
      "[epoch_48_valf1_0.48040.pth] Exported 404 file(s) under /media/datadisk/home/22828187/zhanh/202505_dynest_data/workspaces/outputs/formal-logmel-SingleCNN-['downbeat']-fold4/epoch_48_valf1_0.48040\n",
      "epoch_48_valf1_0.48040.pth -> {'downbeat_f1': 0.5186}\n"
     ]
    }
   ],
   "source": [
    "import subprocess\n",
    "OUT = \"/media/datadisk/home/22828187/zhanh/202505_dynest_data/workspaces/outputs\"\n",
    "CKPT = \"/media/datadisk/home/22828187/zhanh/202505_dynest_data/workspaces/checkpoints/formal-logmel-SingleCNN-['downbeat']-fold{f}\"\n",
    "CSV  = \"/media/datadisk/home/22828187/zhanh/202505_dynest_data/workspaces/split_5fold_fold{f}_seed86.csv\"\n",
    "for f in range(5):\n",
    "    ckpt_dir = CKPT.format(f=f)\n",
    "    csv_path = CSV.format(f=f)\n",
    "    common = [\n",
    "        \"--ckpt_dir\", ckpt_dir,\n",
    "        \"--infer_split_csv\", csv_path,\n",
    "        \"--output_dir\", OUT,\n",
    "        \"--valf1_rank\", \"1\",\n",
    "        \"--min_epoch\", \"8\",\n",
    "    ]\n",
    "    subprocess.run([\"python\", \"pytorch/inference.py\", *common], check=True)\n",
    "    subprocess.run([\"python\", \"pytorch/final_evaluation.py\", *common], check=True)"
   ]
  }
 ],
 "metadata": {
  "kernelspec": {
   "display_name": "hpt_mamba",
   "language": "python",
   "name": "python3"
  },
  "language_info": {
   "codemirror_mode": {
    "name": "ipython",
    "version": 3
   },
   "file_extension": ".py",
   "mimetype": "text/x-python",
   "name": "python",
   "nbconvert_exporter": "python",
   "pygments_lexer": "ipython3",
   "version": "3.11.11"
  }
 },
 "nbformat": 4,
 "nbformat_minor": 5
}
