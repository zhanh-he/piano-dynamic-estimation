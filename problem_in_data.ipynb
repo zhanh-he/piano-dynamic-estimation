{
 "cells": [
  {
   "cell_type": "code",
   "execution_count": null,
   "metadata": {},
   "outputs": [],
   "source": [
    "# Raw metadata\n",
    "mazurka_dyns_folder =  'Dataset/MazurkaBL-master/markings_dyn'\n",
    "mazurka_beat_folder =  'Dataset/MazurkaBL-master/beat_time'\n",
    "mazurka_sones_folder = 'Dataset/MazurkaBL-master/sones'\n",
    "mazurka_plet_folder  = 'Dataset/MazurkaBL-master/change_points_data/cp_per_maz_rec_PELT'\n",
    "mazurka_audio_folder = 'Dataset/Mazurka audios'\n",
    "mazurka_discography_file = 'Dataset/MazurkaBL-master/mazurka-discography.txt'\n",
    "\n",
    "# Cleaned metadata\n",
    "cln_meta_folder = 'Dataset/mazurka_meta/'"
   ]
  },
  {
   "cell_type": "markdown",
   "metadata": {},
   "source": [
    "## Found Issus #1: unusual dynamic markings occur in some mazurka.csv\n",
    "\n",
    "Not use the M06-4 and M63-2, since their dynamics markings are unusual"
   ]
  },
  {
   "cell_type": "code",
   "execution_count": null,
   "metadata": {},
   "outputs": [
    {
     "name": "stdout",
     "output_type": "stream",
     "text": [
      "Found 46 CSV files.\n",
      "\n",
      "Overall dynamic labels found:\n",
      "p: 235\n",
      "f: 170\n",
      "pp: 64\n",
      "ff: 43\n",
      "mf: 21\n",
      "fermata: 2\n",
      "lento: 1\n",
      "rit: 1\n",
      "a tempo: 1\n"
     ]
    }
   ],
   "source": [
    "from pytorch.plot_utils import check_dynamic_markings_in_folder, find_invalid_dynamic_markings\n",
    "mazurka_dyns_folder = 'Dataset/MazurkaBL-master/markings_dyn'\n",
    "\n",
    "check_dynamic_markings_in_folder(mazurka_dyns_folder)"
   ]
  },
  {
   "cell_type": "code",
   "execution_count": null,
   "metadata": {},
   "outputs": [
    {
     "name": "stdout",
     "output_type": "stream",
     "text": [
      "Found 46 CSV files.\n",
      "\n",
      "Invalid dynamics labels found:\n",
      "Label 'fermata' found in: M06-4markings.csv, M06-4markings.csv\n",
      "Label 'lento' found in: M63-2markings.csv\n",
      "Label 'rit' found in: M63-2markings.csv\n",
      "Label 'a tempo' found in: M63-2markings.csv\n"
     ]
    }
   ],
   "source": [
    "invalid_labels = ['fermata', 'lento', 'rit', 'a tempo']\n",
    "find_invalid_dynamic_markings(mazurka_dyns_folder, invalid_labels)"
   ]
  },
  {
   "cell_type": "markdown",
   "metadata": {},
   "source": [
    "## Found Issue #2: Some pid are wrongly record in the beat_folder, or missing performer name in discograpghy\n",
    "\n",
    "Following code are used to find where the error occur.\n",
    "\n",
    "This issue will be solved by pack_h5.py"
   ]
  },
  {
   "cell_type": "code",
   "execution_count": null,
   "metadata": {},
   "outputs": [
    {
     "data": {
      "text/plain": [
       "[('M30-1beat_time.csv', 'pid9070b-01'), ('M41-1beat_time.csv', 'pid9070b-01')]"
      ]
     },
     "execution_count": 9,
     "metadata": {},
     "output_type": "execute_result"
    }
   ],
   "source": [
    "from pytorch.plot_utils import find_pid_in_which_mazurka_csv\n",
    "mazurka_beat_folder = 'Dataset/MazurkaBL-master/beat_time'\n",
    "\n",
    "# partial_pid = \"6100022\"\n",
    "# partial_pid = \"9070b-09\"\n",
    "# partial_pid = \"7992-03\" --> occur in CSV but missing in discography\n",
    "\n",
    "partial_pid = \"9070b-01\"\n",
    "find_pid_in_which_mazurka_csv(mazurka_beat_folder, partial_pid)"
   ]
  },
  {
   "cell_type": "code",
   "execution_count": null,
   "metadata": {},
   "outputs": [
    {
     "data": {
      "text/plain": [
       "[]"
      ]
     },
     "execution_count": 10,
     "metadata": {},
     "output_type": "execute_result"
    }
   ],
   "source": [
    "partial_pid = \"9070b-09\"\n",
    "find_pid_in_which_mazurka_csv(mazurka_beat_folder, partial_pid)"
   ]
  },
  {
   "cell_type": "code",
   "execution_count": 1,
   "metadata": {},
   "outputs": [
    {
     "data": {
      "text/plain": [
       "[('M17-4beat_time.csv', 'pid7992-03')]"
      ]
     },
     "execution_count": 1,
     "metadata": {},
     "output_type": "execute_result"
    }
   ],
   "source": [
    "from pytorch.plot_utils import find_pid_in_which_mazurka_csv\n",
    "mazurka_beat_folder = 'Dataset/MazurkaBL-master/beat_time'\n",
    "\n",
    "partial_pid = \"7992-03\"\n",
    "find_pid_in_which_mazurka_csv(mazurka_beat_folder, partial_pid)"
   ]
  },
  {
   "cell_type": "code",
   "execution_count": 1,
   "metadata": {},
   "outputs": [
    {
     "name": "stdout",
     "output_type": "stream",
     "text": [
      "\n",
      "Checked Dataset/MazurkaBL-master/beat_time/M17-4beat_time.csv against Dataset/MazurkaBL-master/mazurka-discography.txt for opus 17.4\n",
      "Total pids in CSV: 67\n",
      "Matching pids: ['1263-13', '50534-05', '52932-06', '54293-09', '5667267b-10', '9048-13', '9050-13', '9052b-09', '9054-13', '9055-13', '9056-15', '9058-13', '9059-13', '9062-13', '9063-13', '9064-04', '9065-08', '9066-13', '9067-13', '9068-08', '9070-21', '9072-13', '9074f-13', '9085-15', '9087-07', '9088-08', '9089-15', '9090-06', '9093-13', '9094-13', '9098-20', '9099-13', '9100b-17', '9101-13', '9103-07', '9104-13', '9105-13', '9111-13', '9118-13', '9130-01', '9138-13', '9139-13', '9152-13', '9153-13', '915406-13', '9156-10', '9159-04', '9160-02', '9161-12', '9165-04', '9166d-20', '9167-13', '9170-13', '9173-18', '9174-13', '9176-06', '917803b-08', '917807-08', '917811-09', '917812-05', '917813-02', '9181-07', '9186c-13', '918818-11', '9192-13', '9193-03']\n",
      "[Error] PIDs in CSV but NOT in discography: ['7992-03']\n",
      "\n",
      "We allow PIDs in discography but not in CSV\n",
      "[Allow] PIDs in discography but NOT in CSV: ['9060-13', '9180-05', '9086-07', '9097-17', '9071-20', '917802-08', '610003-15', '9073-15', '59340c-06', '9164-13', '9163-02', '917801b-18', '5667274-09', '918901-10', '9132-11', '9049-13', '9075-13', '54851-12', '9147-12', '9061-13', '915402b-08', '919405-06']\n"
     ]
    }
   ],
   "source": [
    "from pytorch.plot_utils import check_pid_consistency\n",
    "\n",
    "check_pid_consistency(\n",
    "    'Dataset/MazurkaBL-master/beat_time/M17-4beat_time.csv',\n",
    "    'Dataset/MazurkaBL-master/mazurka-discography.txt'\n",
    ")"
   ]
  },
  {
   "cell_type": "markdown",
   "metadata": {},
   "source": [
    "## Issue Found: First dynamic in some Mazurka markings_dyn.csv does not start at 1\n",
    "Checking where this occurs.\n",
    "\n",
    "Note: The default dynamic in the music score is mf. If this happens, we will mark the blank initial interval as mezzo-forte (mf).\n",
    "\n",
    "This issue will be solved by the pack_h5.py"
   ]
  },
  {
   "cell_type": "code",
   "execution_count": 2,
   "metadata": {},
   "outputs": [
    {
     "name": "stdout",
     "output_type": "stream",
     "text": [
      "Found 46 CSV files.\n",
      "M17-3markings.csv: starts from 49 instead of 1\n",
      "M24-2markings.csv: starts from 37 instead of 1\n",
      "M41-4markings.csv: starts from 71 instead of 1\n",
      "M50-2markings.csv: starts from 51 instead of 1\n",
      "M50-3markings.csv: starts from 101 instead of 1\n",
      "M59-2markings.csv: starts from 67 instead of 1\n",
      "M63-1markings.csv: starts from 25 instead of 1\n",
      "M67-4markings.csv: starts from 2 instead of 1\n"
     ]
    }
   ],
   "source": [
    "from pytorch.plot_utils import check_markings_start_index\n",
    "mazurka_dyns_folder = 'Dataset/MazurkaBL-master/markings_dyn'\n",
    "\n",
    "check_markings_start_index(mazurka_dyns_folder)"
   ]
  },
  {
   "cell_type": "code",
   "execution_count": 1,
   "metadata": {},
   "outputs": [
    {
     "name": "stdout",
     "output_type": "stream",
     "text": [
      "Checked 44 CSV files.\n",
      "\n",
      "M17-3meta.csv contains 'blank' dynamics:\n",
      "  blank from beat 0 to 47\n",
      "\n",
      "M24-2meta.csv contains 'blank' dynamics:\n",
      "  blank from beat 0 to 35\n",
      "\n",
      "M41-4meta.csv contains 'blank' dynamics:\n",
      "  blank from beat 0 to 69\n",
      "\n",
      "M50-2meta.csv contains 'blank' dynamics:\n",
      "  blank from beat 0 to 49\n",
      "\n",
      "M50-3meta.csv contains 'blank' dynamics:\n",
      "  blank from beat 0 to 99\n",
      "\n",
      "M59-2meta.csv contains 'blank' dynamics:\n",
      "  blank from beat 0 to 65\n",
      "\n",
      "M63-1meta.csv contains 'blank' dynamics:\n",
      "  blank from beat 0 to 23\n",
      "\n",
      "M67-4meta.csv contains 'blank' dynamics:\n",
      "  blank from beat 0 to 0\n"
     ]
    }
   ],
   "source": [
    "# Previous cleanup meta doesn't solve this issue. We ran for double check where this issue occured.\n",
    "\n",
    "from pytorch.plot_utils import find_blank_dynamics_in_folder\n",
    "\n",
    "find_blank_dynamics_in_folder('Dataset/mazurka_meta_bk')"
   ]
  },
  {
   "cell_type": "code",
   "execution_count": 2,
   "metadata": {},
   "outputs": [
    {
     "name": "stdout",
     "output_type": "stream",
     "text": [
      "Checked 44 CSV files.\n"
     ]
    }
   ],
   "source": [
    "# Previous cleanup meta doesn't solve this issue. We ran for double check where this issue occured.\n",
    "\n",
    "from pytorch.plot_utils import find_blank_dynamics_in_folder\n",
    "\n",
    "find_blank_dynamics_in_folder('Dataset/mazurka_meta')"
   ]
  },
  {
   "cell_type": "markdown",
   "metadata": {},
   "source": [
    "## Examinate the Excel data format"
   ]
  },
  {
   "cell_type": "code",
   "execution_count": 4,
   "metadata": {},
   "outputs": [
    {
     "name": "stdout",
     "output_type": "stream",
     "text": [
      "\n",
      "Column dtypes:\n",
      "beat_index                        int64\n",
      "measure_number                    int64\n",
      "beat                              int64\n",
      "downbeat                          int64\n",
      "dynamic_mark                     object\n",
      "                                  ...  \n",
      "pid9166c-03_plet_change_point     int64\n",
      "pid9173-06_plet_change_point      int64\n",
      "pid9174-01_plet_change_point      int64\n",
      "pid9186c-01_plet_change_point     int64\n",
      "pid9192-01_plet_change_point      int64\n",
      "Length: 74, dtype: object\n",
      "\n",
      "Check for values starting with a single quote ('):\n",
      "✅ No quote-prefixed values found.\n"
     ]
    }
   ],
   "source": [
    "import pandas as pd\n",
    "\n",
    "csv_path = \"Dataset/mazurka_meta/M06-1meta.csv\"\n",
    "\n",
    "# 读取 CSV\n",
    "df = pd.read_csv(csv_path)\n",
    "\n",
    "# 打印数据类型，确认是否是 float\n",
    "print(\"\\nColumn dtypes:\")\n",
    "print(df.dtypes)\n",
    "\n",
    "# 检查是否有以 `'` 开头的字符串\n",
    "print(\"\\nCheck for values starting with a single quote ('):\")\n",
    "quote_counts = {}\n",
    "\n",
    "for col in df.columns:\n",
    "    if df[col].dtype == object:\n",
    "        # 找出有前引号的值\n",
    "        quote_values = df[col].astype(str).str.startswith(\"'\")\n",
    "        count = quote_values.sum()\n",
    "        if count > 0:\n",
    "            quote_counts[col] = count\n",
    "\n",
    "if quote_counts:\n",
    "    print(\"Columns with quote-prefixed values:\", quote_counts)\n",
    "else:\n",
    "    print(\"✅ No quote-prefixed values found.\")"
   ]
  },
  {
   "cell_type": "markdown",
   "metadata": {},
   "source": [
    "# 检查 mazurka-discography.txt 的完整性"
   ]
  },
  {
   "cell_type": "code",
   "execution_count": 2,
   "metadata": {},
   "outputs": [
    {
     "name": "stdout",
     "output_type": "stream",
     "text": [
      "✅ All entries look valid in opus, performer, and duration fields.\n"
     ]
    }
   ],
   "source": [
    "import pandas as pd\n",
    "\n",
    "def check_discography_integrity(discography_file):\n",
    "    \"\"\"\n",
    "    Examine the discography file for any missing or malformed entries in 'opus', 'performer', or 'seconds'.\n",
    "\n",
    "    Args:\n",
    "        discography_file (str): Path to mazurka-discography.txt\n",
    "\n",
    "    Returns:\n",
    "        None. Prints report to console.\n",
    "    \"\"\"\n",
    "    df = pd.read_csv(discography_file, sep=r'\\s{2,}|\\t', engine='python')\n",
    "    df.columns = ['opus', 'key', 'performer', 'year', 'time_str', 'seconds', 'label', 'pid', 'status']\n",
    "    df['pid'] = df['pid'].str.strip()\n",
    "\n",
    "    problems = []\n",
    "\n",
    "    missing_opus = df['opus'].isna() | (df['opus'].astype(str).str.strip() == \"\")\n",
    "    if missing_opus.any():\n",
    "        problems.append(f\"Missing opus entries: {missing_opus.sum()}\")\n",
    "\n",
    "    missing_perf = df['performer'].isna() | (df['performer'].astype(str).str.strip() == \"\")\n",
    "    if missing_perf.any():\n",
    "        problems.append(f\"Missing performer entries: {missing_perf.sum()}\")\n",
    "\n",
    "    # seconds should be numeric and not null\n",
    "    df['seconds'] = pd.to_numeric(df['seconds'], errors='coerce')\n",
    "    missing_seconds = df['seconds'].isna()\n",
    "    if missing_seconds.any():\n",
    "        problems.append(f\"Missing or malformed duration entries (seconds): {missing_seconds.sum()}\")\n",
    "\n",
    "    if problems:\n",
    "        print(\"⚠️ Issues found in discography file:\")\n",
    "        for p in problems:\n",
    "            print(\" -\", p)\n",
    "\n",
    "        # Optionally: show first few bad rows\n",
    "        print(\"\\nExample problematic rows:\")\n",
    "        print(df[missing_opus | missing_perf | missing_seconds].head(5))\n",
    "    else:\n",
    "        print(\"✅ All entries look valid in opus, performer, and duration fields.\")\n",
    "\n",
    "check_discography_integrity(\"Dataset/MazurkaBL-master/mazurka-discography.txt\")"
   ]
  },
  {
   "cell_type": "markdown",
   "metadata": {},
   "source": [
    "## Check h5 file data"
   ]
  },
  {
   "cell_type": "code",
   "execution_count": 1,
   "metadata": {},
   "outputs": [
    {
     "name": "stdout",
     "output_type": "stream",
     "text": [
      "Inspecting HDF5 file: /media/datadisk/home/22828187/zhanh/202505_DynEst/workspaces/hdf5s/mazurka_sr16000/mazurka06-1/pid1263-01.h5\n",
      "\n",
      "📂 Datasets:\n",
      " - beat_time                 shape: (337,) dtype: float32\n",
      " - change_point_time         shape: (15,) dtype: float32\n",
      " - downbeat_time             shape: (113,) dtype: float32\n",
      " - dynmark_5_class           shape: (337,) dtype: int64\n",
      " - dynmark_5_class_at_beats  shape: (337, 2) dtype: float32\n",
      " - dynmark_8_class           shape: (337,) dtype: int64\n",
      " - dynmark_8_class_at_beats  shape: (337, 2) dtype: float32\n",
      " - measure_time              shape: (113,) dtype: float32\n",
      " - midi_event                shape: (3239,) dtype: |S100\n",
      " - midi_event_time           shape: (3239,) dtype: float32\n",
      " - plet_change_point_time    shape: (41,) dtype: float32\n",
      " - waveform                  shape: (3208437,) dtype: int16\n",
      "\n",
      "🔖 Attributes:\n",
      " - audio_filename            value: pid1263-01.wav\n",
      " - duration_in_meta          value: 196.0\n",
      " - duration_librosa          value: 200.52731323242188\n",
      " - midi_filename             value: pid1263-01.mid\n",
      " - opus                      value: 06-1\n",
      " - performer                 value: Csalog\n"
     ]
    }
   ],
   "source": [
    "from pytorch.plot_utils import inspect_hdf5_file\n",
    "\n",
    "# Example usage\n",
    "h5_file_path = \"/media/datadisk/home/22828187/zhanh/202505_DynEst/workspaces/hdf5s/mazurka_sr16000/mazurka06-1/pid1263-01.h5\"\n",
    "inspect_hdf5_file(h5_file_path)"
   ]
  },
  {
   "cell_type": "code",
   "execution_count": 8,
   "metadata": {},
   "outputs": [],
   "source": [
    "import h5py\n",
    "import numpy as np\n",
    "\n",
    "class HDF5Performance:\n",
    "    def __init__(self, h5_path):\n",
    "        self.h5_path = h5_path\n",
    "        self.data = {}\n",
    "        self.attrs = {}\n",
    "        self._load()\n",
    "\n",
    "    def _load(self):\n",
    "        with h5py.File(self.h5_path, 'r') as hf:\n",
    "            # 加载所有数据集为 numpy 数组\n",
    "            for key in hf.keys():\n",
    "                self.data[key] = hf[key][:]\n",
    "            # 加载所有属性\n",
    "            for key in hf.attrs:\n",
    "                val = hf.attrs[key]\n",
    "                if isinstance(val, bytes):\n",
    "                    val = val.decode()\n",
    "                self.attrs[key] = val\n",
    "\n",
    "    def __getattr__(self, name):\n",
    "        # 允许通过属性访问数据\n",
    "        if name in self.data:\n",
    "            return self.data[name]\n",
    "        elif name in self.attrs:\n",
    "            return self.attrs[name]\n",
    "        else:\n",
    "            raise AttributeError(f\"'HDF5Performance' object has no attribute '{name}'\")\n",
    "\n",
    "    def keys(self):\n",
    "        return list(self.data.keys())\n",
    "\n",
    "    def attr_keys(self):\n",
    "        return list(self.attrs.keys())\n",
    "\n",
    "h5_path = \"/media/datadisk/home/22828187/zhanh/202505_DynEst/workspaces/hdf5s/mazurka/mazurka06-1/pid1263-01.h5\"\n",
    "h5 = HDF5Performance(h5_path)"
   ]
  },
  {
   "cell_type": "code",
   "execution_count": 17,
   "metadata": {},
   "outputs": [
    {
     "data": {
      "text/plain": [
       "(3239,)"
      ]
     },
     "execution_count": 17,
     "metadata": {},
     "output_type": "execute_result"
    }
   ],
   "source": [
    "h5.midi_event.shape"
   ]
  },
  {
   "cell_type": "code",
   "execution_count": 19,
   "metadata": {},
   "outputs": [
    {
     "data": {
      "text/plain": [
       "array([b'control_change channel=0 control=64 value=127 time=7',\n",
       "       b'control_change channel=0 control=64 value=0 time=2489',\n",
       "       b'control_change channel=0 control=64 value=127 time=222',\n",
       "       b'note_on channel=0 note=66 velocity=56 time=691',\n",
       "       b'note_on channel=0 note=37 velocity=31 time=535',\n",
       "       b'note_on channel=0 note=56 velocity=24 time=4',\n",
       "       b'note_on channel=0 note=68 velocity=48 time=378',\n",
       "       b'note_on channel=0 note=66 velocity=0 time=59'], dtype='|S100')"
      ]
     },
     "execution_count": 19,
     "metadata": {},
     "output_type": "execute_result"
    }
   ],
   "source": [
    "h5.midi_event[:8]"
   ]
  },
  {
   "cell_type": "code",
   "execution_count": 14,
   "metadata": {},
   "outputs": [
    {
     "data": {
      "text/plain": [
       "(3239,)"
      ]
     },
     "execution_count": 14,
     "metadata": {},
     "output_type": "execute_result"
    }
   ],
   "source": [
    "h5.midi_event_time.shape"
   ]
  },
  {
   "cell_type": "code",
   "execution_count": 15,
   "metadata": {},
   "outputs": [
    {
     "data": {
      "text/plain": [
       "array([0.00911458, 3.25      , 3.5390625 , 4.4388022 , 5.1354165 ,\n",
       "       5.140625  , 5.6328125 , 5.7096353 ], dtype=float32)"
      ]
     },
     "execution_count": 15,
     "metadata": {},
     "output_type": "execute_result"
    }
   ],
   "source": [
    "h5.midi_event_time[:8]"
   ]
  },
  {
   "cell_type": "code",
   "execution_count": 12,
   "metadata": {},
   "outputs": [
    {
     "data": {
      "text/plain": [
       "(3208437,)"
      ]
     },
     "execution_count": 12,
     "metadata": {},
     "output_type": "execute_result"
    }
   ],
   "source": [
    "h5.waveform.shape"
   ]
  }
 ],
 "metadata": {
  "kernelspec": {
   "display_name": "hpt_mamba",
   "language": "python",
   "name": "python3"
  },
  "language_info": {
   "codemirror_mode": {
    "name": "ipython",
    "version": 3
   },
   "file_extension": ".py",
   "mimetype": "text/x-python",
   "name": "python",
   "nbconvert_exporter": "python",
   "pygments_lexer": "ipython3",
   "version": "3.11.11"
  }
 },
 "nbformat": 4,
 "nbformat_minor": 2
}
